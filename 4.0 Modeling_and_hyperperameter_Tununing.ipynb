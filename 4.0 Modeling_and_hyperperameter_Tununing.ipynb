{
 "cells": [
  {
   "cell_type": "markdown",
   "metadata": {
    "id": "dYDjdVki5oqe"
   },
   "source": [
    "# **Modeling and hyperperameter Tununing**"
   ]
  },
  {
   "cell_type": "code",
   "execution_count": 1,
   "metadata": {
    "id": "KpTh_NN95oq0"
   },
   "outputs": [],
   "source": [
    "import pandas as pd\n",
    "import numpy as np\n",
    "import seaborn as sns\n",
    "import matplotlib.pyplot as plt\n",
    "from sklearn.model_selection import KFold, cross_val_score, train_test_split\n",
    "from sklearn.metrics import mean_squared_error\n",
    "import pickle\n",
    "from Regression import Regression\n",
    "from Ensemble import Ensemble\n",
    "import matplotlib.pyplot as plt\n",
    "%matplotlib inline"
   ]
  },
  {
   "cell_type": "code",
   "execution_count": 2,
   "metadata": {
    "id": "2zzpr-3x5oq3"
   },
   "outputs": [],
   "source": [
    "x_train = pd.read_csv('Data/2.x_train.csv')\n",
    "x_val = pd.read_csv('Data/2.x_test.csv')\n",
    "y_train = pd.read_csv('Data/2.y_train.csv')\n",
    "y_val = pd.read_csv('Data/2.y_test.csv')"
   ]
  },
  {
   "cell_type": "code",
   "execution_count": 3,
   "metadata": {
    "colab": {
     "base_uri": "https://localhost:8080/"
    },
    "id": "_26VuSOe5oq3",
    "outputId": "d28a1037-297c-477a-a392-ad39e15c8d2b"
   },
   "outputs": [
    {
     "name": "stdout",
     "output_type": "stream",
     "text": [
      "(1314, 21)\n",
      "(145, 21)\n"
     ]
    }
   ],
   "source": [
    "print(x_train.shape)\n",
    "print(x_val.shape)"
   ]
  },
  {
   "cell_type": "code",
   "execution_count": 4,
   "metadata": {
    "id": "-fFsrvo1oF2C"
   },
   "outputs": [],
   "source": [
    "import pandas as pd\n",
    "import numpy as np\n",
    "import matplotlib.pyplot as plt\n",
    "from sklearn.linear_model import LinearRegression\n",
    "from sklearn.metrics import mean_squared_error, r2_score\n",
    "from sklearn.tree import DecisionTreeRegressor\n",
    "from sklearn.ensemble import RandomForestRegressor\n",
    "from sklearn.model_selection import GridSearchCV, StratifiedKFold,RandomizedSearchCV\n",
    "from sklearn.svm import SVR\n",
    "import seaborn as sns\n",
    "import math\n",
    "import time\n",
    "\n",
    "class Regression():\n",
    "    def __init__(self,model_type,x_train,y_train,x_val,y_val,hyper_tuning_method = \"grid\"):\n",
    "        self.x_train = x_train\n",
    "        self.y_train = y_train\n",
    "        self.x_val = x_val\n",
    "        self.y_val = y_val\n",
    "        self.model_type = model_type\n",
    "        self.hyper_tuning_method = hyper_tuning_method\n",
    "\n",
    "        self.report = pd.DataFrame()\n",
    "        if self.model_type == \"Linear Regression\":\n",
    "            self.model = LinearRegression()\n",
    "        elif self.model_type == 'Decision Tree Regression':\n",
    "            self.model = DecisionTreeRegressor(random_state=42)\n",
    "        elif self.model_type == 'Random Forest Regression':\n",
    "            self.model = RandomForestRegressor()\n",
    "        elif self.model_type == 'SVM Regression':\n",
    "          self.model = SVR()\n",
    "   \n",
    "    def result(self):\n",
    "       mse_t = mean_squared_error(self.y_train, self.y_true)\n",
    "       mse_v = mean_squared_error(self.y_val, self.y_validated)\n",
    "       mse = [mse_t,mse_v]\n",
    "       rmse = [math.sqrt(mse_t),math.sqrt(mse_v)]\n",
    "       df = pd.DataFrame({'MSE':mse,'RMSE':rmse},index=['train','validation'])\n",
    "       return df\n",
    "    def get_feature_importances(self):\n",
    " \n",
    "        if (self.model_type == 'Decision Tree Regression') or (self.model_type == 'Random Forest Regression') or (self.model_type == 'SVM Regression'):    \n",
    "            self.feature_importances_table = pd.DataFrame(self.best_model.feature_importances_,\n",
    "                                                    index = self.x_train.columns,\n",
    "                                                    columns=['Importance']).sort_values('Importance',ascending =False)\n",
    "            plt.figure(figsize=(9,7.5))\n",
    "            self.feature_importances_bar = sns.barplot(y= self.feature_importances_table.index[:15], x= self.feature_importances_table['Importance'][:15])\n",
    "            plt.show()\n",
    "            return self.feature_importances_bar  \n",
    "        else:\n",
    "            return print('This classification method does not have the attribute feature importance.')  \n",
    "    def scores(self,best_model,value):\n",
    "        self.score_table = pd.DataFrame()\n",
    "        self.score_train = self.best_model.score(self.x_train,self.y_train)\n",
    "        self.score_val = self.best_model.score(self.x_val,self.y_val)\n",
    "        d = {'Model Name': [self.model_type],\n",
    "             'Train Score': [self.score_train], \n",
    "             'Validation Score': [self.score_val],\n",
    "             'Score Difference':[self.score_train-self.score_val]}\n",
    "        self.scores_table = pd.DataFrame(data=d)\n",
    "        return self.scores_table\n",
    "    def show_kde(self):\n",
    "        sns.kdeplot(self.y_val, self.y_validated, \n",
    "            color='r', shade=True, Label='Iris_Setosa', \n",
    "            cmap=\"Reds\", shade_lowest=False) \n",
    "        \n",
    "    def show(self):\n",
    "        fig, ax = plt.subplots(1,1)\n",
    "        labels = [] \n",
    "        for s in self.df:\n",
    "            self.df[s].plot(kind='density',title = 'Distribuation of Actual value and Prediction Value',label=s)\n",
    "            labels.append(s)\n",
    "        plt.legend(labels)\n",
    "        plt.show()\n",
    "    def get_best_estimator(self):\n",
    "        return opt_model.best_estimator_\n",
    "    def get_scores(self,params,cv_type):\n",
    "        start = time.time()\n",
    "        model = self.model\n",
    "        if self.hyper_tuning_method == \"grid\":\n",
    "            opt_model = GridSearchCV(model,\n",
    "                                 params,\n",
    "                                 cv=cv_type,\n",
    "                                 scoring='r2',\n",
    "                                 return_train_score=True,\n",
    "                                 n_jobs=-1)\n",
    "        else:\n",
    "             opt_mode = RandomizedSearchCV(model,\n",
    "                                 params,\n",
    "                                 cv=cv_type,\n",
    "                                 scoring='r2',\n",
    "                                 return_train_score=True,\n",
    "                                 n_jobs=-1,\n",
    "                                  n_iter=60)\n",
    "        \n",
    "        self.opt_model = opt_model.fit(self.x_train,self.y_train) \n",
    "       \n",
    "        self.best_model = opt_model.best_estimator_\n",
    "        value = opt_model.best_score_\n",
    "        self.scores = self.scores(self.best_model,value)\n",
    "        self.best_params = opt_model.best_params_\n",
    "        display(self.scores_table)\n",
    "        print()\n",
    "        if params == {}:\n",
    "            pass\n",
    "        else:\n",
    "            print(\"The best hyperparameters by {}searchCv are : \".format(self.hyper_tuning_method), self.best_params,'\\n')\n",
    "        self.y_validated = self.best_model.predict(self.x_val)\n",
    "\n",
    "        self.y_true = self.best_model.predict(self.x_train)\n",
    "        self.report = self.result()\n",
    "        stop = time.time()\n",
    "        \n",
    "        print(f\"time taken by hayper perameter for searching best perameter : {stop - start} s \\n\",)\n",
    "        df = pd.DataFrame({'Actual':np.array(self.y_val).flatten(),'Prediction':np.array(self.y_validated).flatten()})\n",
    "        self.df = df\n",
    "        display(df[:5])\n",
    "        return self.report\n",
    "\n",
    "\n",
    "     \n",
    "\n",
    " "
   ]
  },
  {
   "cell_type": "code",
   "execution_count": 5,
   "metadata": {
    "id": "t0xJi2egrVd8"
   },
   "outputs": [],
   "source": [
    "\n",
    "\n",
    "import pandas as pd\n",
    "from lightgbm import LGBMRegressor\n",
    "from xgboost import XGBRegressor\n",
    "from lightgbm import LGBMRegressor \n",
    "from sklearn.ensemble import GradientBoostingClassifier,StackingRegressor,VotingRegressor\n",
    "\n",
    "\n",
    "class Ensemble(Regression):\n",
    "    def __init__(self, ensemble_method,X_train, y_train, X_val, y_val,hyper_tuning_method = \"grid\"):\n",
    "        self.ensemble_method = ensemble_method\n",
    "        self.x_train = X_train\n",
    "        self.y_train = y_train\n",
    "        self.x_val = X_val\n",
    "        self.y_val = y_val\n",
    "        self.model_type = ensemble_method\n",
    "        self.hyper_tuning_method = hyper_tuning_method\n",
    "        self.scores_table = pd.DataFrame()\n",
    "        self.estimators = None\n",
    "\n",
    "        if self.ensemble_method == \"XGBoost\":\n",
    "            self.model = XGBRegressor(n_jobs=-1)\n",
    "        elif self.ensemble_method == \"LightGbm\":\n",
    "            self.model = LGBMRegressor()\n",
    "        elif self.ensemble_method == \"Voting\":\n",
    "            self.model = VotingRegressor()  \n",
    "        \n",
    "    def Stacking(self,estimators):\n",
    "        self.model = StackingRegressor(estimators=estimators,final_estimator=RandomForestRegressor(n_estimators=100,random_state=42))\n",
    "        \n",
    "        \n",
    "    def Voting(self,estimators):\n",
    "        self.model = VotingRegressor(estimators=estimators,final_estimator=RandomForestRegressor(n_estimators=10,random_state=42))\n",
    "\n",
    "\n",
    "    \n",
    "\n"
   ]
  },
  {
   "cell_type": "markdown",
   "metadata": {
    "id": "6GNg85fz5oq6"
   },
   "source": [
    "## **Linear Regression (Baselinne)**"
   ]
  },
  {
   "cell_type": "code",
   "execution_count": null,
   "metadata": {
    "colab": {
     "base_uri": "https://localhost:8080/",
     "height": 405
    },
    "id": "JiIDRztu5oq7",
    "outputId": "22d0be8b-32e8-4ae4-8dd2-061a1b9d66a0"
   },
   "outputs": [
    {
     "data": {
      "text/html": [
       "<div>\n",
       "<style scoped>\n",
       "    .dataframe tbody tr th:only-of-type {\n",
       "        vertical-align: middle;\n",
       "    }\n",
       "\n",
       "    .dataframe tbody tr th {\n",
       "        vertical-align: top;\n",
       "    }\n",
       "\n",
       "    .dataframe thead th {\n",
       "        text-align: right;\n",
       "    }\n",
       "</style>\n",
       "<table border=\"1\" class=\"dataframe\">\n",
       "  <thead>\n",
       "    <tr style=\"text-align: right;\">\n",
       "      <th></th>\n",
       "      <th>Model Name</th>\n",
       "      <th>Train Score</th>\n",
       "      <th>Validation Score</th>\n",
       "      <th>Score Difference</th>\n",
       "    </tr>\n",
       "  </thead>\n",
       "  <tbody>\n",
       "    <tr>\n",
       "      <th>0</th>\n",
       "      <td>Linear Regression</td>\n",
       "      <td>0.898866</td>\n",
       "      <td>0.880952</td>\n",
       "      <td>0.017914</td>\n",
       "    </tr>\n",
       "  </tbody>\n",
       "</table>\n",
       "</div>"
      ],
      "text/plain": [
       "          Model Name  Train Score  Validation Score  Score Difference\n",
       "0  Linear Regression     0.898866          0.880952          0.017914"
      ]
     },
     "metadata": {
      "tags": []
     },
     "output_type": "display_data"
    },
    {
     "name": "stdout",
     "output_type": "stream",
     "text": [
      "\n",
      "time taken by hayper perameter for searching best perameter : 0.16159772872924805 s \n",
      "\n"
     ]
    },
    {
     "data": {
      "text/html": [
       "<div>\n",
       "<style scoped>\n",
       "    .dataframe tbody tr th:only-of-type {\n",
       "        vertical-align: middle;\n",
       "    }\n",
       "\n",
       "    .dataframe tbody tr th {\n",
       "        vertical-align: top;\n",
       "    }\n",
       "\n",
       "    .dataframe thead th {\n",
       "        text-align: right;\n",
       "    }\n",
       "</style>\n",
       "<table border=\"1\" class=\"dataframe\">\n",
       "  <thead>\n",
       "    <tr style=\"text-align: right;\">\n",
       "      <th></th>\n",
       "      <th>Actual</th>\n",
       "      <th>Prediction</th>\n",
       "    </tr>\n",
       "  </thead>\n",
       "  <tbody>\n",
       "    <tr>\n",
       "      <th>0</th>\n",
       "      <td>12.209188</td>\n",
       "      <td>12.278635</td>\n",
       "    </tr>\n",
       "    <tr>\n",
       "      <th>1</th>\n",
       "      <td>11.798104</td>\n",
       "      <td>12.008081</td>\n",
       "    </tr>\n",
       "    <tr>\n",
       "      <th>2</th>\n",
       "      <td>11.608236</td>\n",
       "      <td>11.709233</td>\n",
       "    </tr>\n",
       "    <tr>\n",
       "      <th>3</th>\n",
       "      <td>12.165251</td>\n",
       "      <td>12.271068</td>\n",
       "    </tr>\n",
       "    <tr>\n",
       "      <th>4</th>\n",
       "      <td>11.385092</td>\n",
       "      <td>11.427390</td>\n",
       "    </tr>\n",
       "  </tbody>\n",
       "</table>\n",
       "</div>"
      ],
      "text/plain": [
       "      Actual  Prediction\n",
       "0  12.209188   12.278635\n",
       "1  11.798104   12.008081\n",
       "2  11.608236   11.709233\n",
       "3  12.165251   12.271068\n",
       "4  11.385092   11.427390"
      ]
     },
     "metadata": {
      "tags": []
     },
     "output_type": "display_data"
    },
    {
     "data": {
      "text/html": [
       "<div>\n",
       "<style scoped>\n",
       "    .dataframe tbody tr th:only-of-type {\n",
       "        vertical-align: middle;\n",
       "    }\n",
       "\n",
       "    .dataframe tbody tr th {\n",
       "        vertical-align: top;\n",
       "    }\n",
       "\n",
       "    .dataframe thead th {\n",
       "        text-align: right;\n",
       "    }\n",
       "</style>\n",
       "<table border=\"1\" class=\"dataframe\">\n",
       "  <thead>\n",
       "    <tr style=\"text-align: right;\">\n",
       "      <th></th>\n",
       "      <th>MSE</th>\n",
       "      <th>RMSE</th>\n",
       "    </tr>\n",
       "  </thead>\n",
       "  <tbody>\n",
       "    <tr>\n",
       "      <th>train</th>\n",
       "      <td>0.016379</td>\n",
       "      <td>0.127981</td>\n",
       "    </tr>\n",
       "    <tr>\n",
       "      <th>validation</th>\n",
       "      <td>0.016382</td>\n",
       "      <td>0.127992</td>\n",
       "    </tr>\n",
       "  </tbody>\n",
       "</table>\n",
       "</div>"
      ],
      "text/plain": [
       "                 MSE      RMSE\n",
       "train       0.016379  0.127981\n",
       "validation  0.016382  0.127992"
      ]
     },
     "execution_count": 17,
     "metadata": {
      "tags": []
     },
     "output_type": "execute_result"
    }
   ],
   "source": [
    "model1 = Regression('Linear Regression',x_train , y_train,x_val, y_val)\n",
    "model1.get_scores({},5)"
   ]
  },
  {
   "cell_type": "code",
   "execution_count": null,
   "metadata": {
    "colab": {
     "base_uri": "https://localhost:8080/",
     "height": 281
    },
    "id": "KLm20ZG95oq_",
    "outputId": "9e038253-fd27-4f24-cd05-d58443328137"
   },
   "outputs": [
    {
     "data": {
      "image/png": "[encoded data removed]",
      "text/plain": [
       "<Figure size 432x288 with 1 Axes>"
      ]
     },
     "metadata": {
      "tags": []
     },
     "output_type": "display_data"
    }
   ],
   "source": [
    "model1.show()"
   ]
  },
  {
   "cell_type": "markdown",
   "metadata": {
    "id": "Yc8w7iIe5orB"
   },
   "source": [
    "## **DecisionTreeRegressor**"
   ]
  },
  {
   "cell_type": "code",
   "execution_count": null,
   "metadata": {
    "id": "NB1DogOo5orB"
   },
   "outputs": [],
   "source": [
    "params = {\n",
    "    'max_depth': [4, 6, 8, 10, 12],\n",
    "    'min_samples_split': [2, 10, 20, 30, 40],\n",
    "    'max_features': [0.2, 0.4, 0.6, 0.8, 1],\n",
    "    'max_leaf_nodes': [8, 16, 32, 64, 128]\n",
    "}\n"
   ]
  },
  {
   "cell_type": "code",
   "execution_count": null,
   "metadata": {
    "colab": {
     "base_uri": "https://localhost:8080/",
     "height": 461
    },
    "id": "BnOum7qi5orC",
    "outputId": "c1d0c8c8-864f-4484-8f10-a3d4f3298dee"
   },
   "outputs": [
    {
     "data": {
      "text/html": [
       "<div>\n",
       "<style scoped>\n",
       "    .dataframe tbody tr th:only-of-type {\n",
       "        vertical-align: middle;\n",
       "    }\n",
       "\n",
       "    .dataframe tbody tr th {\n",
       "        vertical-align: top;\n",
       "    }\n",
       "\n",
       "    .dataframe thead th {\n",
       "        text-align: right;\n",
       "    }\n",
       "</style>\n",
       "<table border=\"1\" class=\"dataframe\">\n",
       "  <thead>\n",
       "    <tr style=\"text-align: right;\">\n",
       "      <th></th>\n",
       "      <th>Model Name</th>\n",
       "      <th>Train Score</th>\n",
       "      <th>Validation Score</th>\n",
       "      <th>Score Difference</th>\n",
       "    </tr>\n",
       "  </thead>\n",
       "  <tbody>\n",
       "    <tr>\n",
       "      <th>0</th>\n",
       "      <td>Decision Tree Regression</td>\n",
       "      <td>0.899665</td>\n",
       "      <td>0.782997</td>\n",
       "      <td>0.116668</td>\n",
       "    </tr>\n",
       "  </tbody>\n",
       "</table>\n",
       "</div>"
      ],
      "text/plain": [
       "                 Model Name  Train Score  Validation Score  Score Difference\n",
       "0  Decision Tree Regression     0.899665          0.782997          0.116668"
      ]
     },
     "metadata": {
      "tags": []
     },
     "output_type": "display_data"
    },
    {
     "name": "stdout",
     "output_type": "stream",
     "text": [
      "\n",
      "The best hyperparameters by gridsearchCv are :  {'max_depth': 12, 'max_features': 0.4, 'max_leaf_nodes': 128, 'min_samples_split': 30} \n",
      "\n",
      "time taken by hayper perameter for searching best perameter : 18.950525283813477 s \n",
      "\n"
     ]
    },
    {
     "data": {
      "text/html": [
       "<div>\n",
       "<style scoped>\n",
       "    .dataframe tbody tr th:only-of-type {\n",
       "        vertical-align: middle;\n",
       "    }\n",
       "\n",
       "    .dataframe tbody tr th {\n",
       "        vertical-align: top;\n",
       "    }\n",
       "\n",
       "    .dataframe thead th {\n",
       "        text-align: right;\n",
       "    }\n",
       "</style>\n",
       "<table border=\"1\" class=\"dataframe\">\n",
       "  <thead>\n",
       "    <tr style=\"text-align: right;\">\n",
       "      <th></th>\n",
       "      <th>Actual</th>\n",
       "      <th>Prediction</th>\n",
       "    </tr>\n",
       "  </thead>\n",
       "  <tbody>\n",
       "    <tr>\n",
       "      <th>0</th>\n",
       "      <td>12.209188</td>\n",
       "      <td>12.636834</td>\n",
       "    </tr>\n",
       "    <tr>\n",
       "      <th>1</th>\n",
       "      <td>11.798104</td>\n",
       "      <td>11.882753</td>\n",
       "    </tr>\n",
       "    <tr>\n",
       "      <th>2</th>\n",
       "      <td>11.608236</td>\n",
       "      <td>11.652063</td>\n",
       "    </tr>\n",
       "    <tr>\n",
       "      <th>3</th>\n",
       "      <td>12.165251</td>\n",
       "      <td>12.446427</td>\n",
       "    </tr>\n",
       "    <tr>\n",
       "      <th>4</th>\n",
       "      <td>11.385092</td>\n",
       "      <td>11.392815</td>\n",
       "    </tr>\n",
       "  </tbody>\n",
       "</table>\n",
       "</div>"
      ],
      "text/plain": [
       "      Actual  Prediction\n",
       "0  12.209188   12.636834\n",
       "1  11.798104   11.882753\n",
       "2  11.608236   11.652063\n",
       "3  12.165251   12.446427\n",
       "4  11.385092   11.392815"
      ]
     },
     "metadata": {
      "tags": []
     },
     "output_type": "display_data"
    },
    {
     "data": {
      "text/html": [
       "<div>\n",
       "<style scoped>\n",
       "    .dataframe tbody tr th:only-of-type {\n",
       "        vertical-align: middle;\n",
       "    }\n",
       "\n",
       "    .dataframe tbody tr th {\n",
       "        vertical-align: top;\n",
       "    }\n",
       "\n",
       "    .dataframe thead th {\n",
       "        text-align: right;\n",
       "    }\n",
       "</style>\n",
       "<table border=\"1\" class=\"dataframe\">\n",
       "  <thead>\n",
       "    <tr style=\"text-align: right;\">\n",
       "      <th></th>\n",
       "      <th>MSE</th>\n",
       "      <th>RMSE</th>\n",
       "    </tr>\n",
       "  </thead>\n",
       "  <tbody>\n",
       "    <tr>\n",
       "      <th>train</th>\n",
       "      <td>0.016250</td>\n",
       "      <td>0.127474</td>\n",
       "    </tr>\n",
       "    <tr>\n",
       "      <th>validation</th>\n",
       "      <td>0.029861</td>\n",
       "      <td>0.172804</td>\n",
       "    </tr>\n",
       "  </tbody>\n",
       "</table>\n",
       "</div>"
      ],
      "text/plain": [
       "                 MSE      RMSE\n",
       "train       0.016250  0.127474\n",
       "validation  0.029861  0.172804"
      ]
     },
     "execution_count": 95,
     "metadata": {
      "tags": []
     },
     "output_type": "execute_result"
    }
   ],
   "source": [
    "tree_1 = Regression('Decision Tree Regression',x_train , y_train,x_val, y_val)\n",
    "tree_1.get_scores(params,5)"
   ]
  },
  {
   "cell_type": "code",
   "execution_count": null,
   "metadata": {
    "colab": {
     "base_uri": "https://localhost:8080/",
     "height": 488
    },
    "id": "p1hQLBhb5orF",
    "outputId": "c9bad862-c6d6-44f7-8d81-696c03b297fc"
   },
   "outputs": [
    {
     "data": {
      "image/png": "[encoded data removed]",
      "text/plain": [
       "<Figure size 648x540 with 1 Axes>"
      ]
     },
     "metadata": {
      "needs_background": "light",
      "tags": []
     },
     "output_type": "display_data"
    },
    {
     "data": {
      "text/plain": [
       "<matplotlib.axes._subplots.AxesSubplot at 0x7fa559368048>"
      ]
     },
     "execution_count": 96,
     "metadata": {
      "tags": []
     },
     "output_type": "execute_result"
    }
   ],
   "source": [
    "tree_1.get_feature_importances()"
   ]
  },
  {
   "cell_type": "markdown",
   "metadata": {
    "id": "I0GNhkp15orG"
   },
   "source": [
    "### **2nd Attempt**"
   ]
  },
  {
   "cell_type": "code",
   "execution_count": null,
   "metadata": {
    "id": "7CI1PiTs5orH"
   },
   "outputs": [],
   "source": [
    "params = {\n",
    "    'max_depth': [11, 12,13,14,15,16],\n",
    "    'min_samples_split': [25,27,29,31,33,35],\n",
    "    'max_features': [0.2, 0.4, 0.6, 0.8, 1],\n",
    "    'max_leaf_nodes': [100,110,128,135,150]\n",
    "}"
   ]
  },
  {
   "cell_type": "code",
   "execution_count": null,
   "metadata": {
    "colab": {
     "base_uri": "https://localhost:8080/",
     "height": 461
    },
    "id": "tE-Q7FWb5orI",
    "outputId": "707de3ba-3be4-46eb-953e-e3310f77051f"
   },
   "outputs": [
    {
     "data": {
      "text/html": [
       "<div>\n",
       "<style scoped>\n",
       "    .dataframe tbody tr th:only-of-type {\n",
       "        vertical-align: middle;\n",
       "    }\n",
       "\n",
       "    .dataframe tbody tr th {\n",
       "        vertical-align: top;\n",
       "    }\n",
       "\n",
       "    .dataframe thead th {\n",
       "        text-align: right;\n",
       "    }\n",
       "</style>\n",
       "<table border=\"1\" class=\"dataframe\">\n",
       "  <thead>\n",
       "    <tr style=\"text-align: right;\">\n",
       "      <th></th>\n",
       "      <th>Model Name</th>\n",
       "      <th>Train Score</th>\n",
       "      <th>Validation Score</th>\n",
       "      <th>Score Difference</th>\n",
       "    </tr>\n",
       "  </thead>\n",
       "  <tbody>\n",
       "    <tr>\n",
       "      <th>0</th>\n",
       "      <td>Decision Tree Regression</td>\n",
       "      <td>0.902531</td>\n",
       "      <td>0.816456</td>\n",
       "      <td>0.086074</td>\n",
       "    </tr>\n",
       "  </tbody>\n",
       "</table>\n",
       "</div>"
      ],
      "text/plain": [
       "                 Model Name  Train Score  Validation Score  Score Difference\n",
       "0  Decision Tree Regression     0.902531          0.816456          0.086074"
      ]
     },
     "metadata": {
      "tags": []
     },
     "output_type": "display_data"
    },
    {
     "name": "stdout",
     "output_type": "stream",
     "text": [
      "\n",
      "The best hyperparameters by gridsearchCv are :  {'max_depth': 11, 'max_features': 0.4, 'max_leaf_nodes': 100, 'min_samples_split': 29} \n",
      "\n",
      "time taken by hayper perameter for searching best perameter : 27.5280921459198 s \n",
      "\n"
     ]
    },
    {
     "data": {
      "text/html": [
       "<div>\n",
       "<style scoped>\n",
       "    .dataframe tbody tr th:only-of-type {\n",
       "        vertical-align: middle;\n",
       "    }\n",
       "\n",
       "    .dataframe tbody tr th {\n",
       "        vertical-align: top;\n",
       "    }\n",
       "\n",
       "    .dataframe thead th {\n",
       "        text-align: right;\n",
       "    }\n",
       "</style>\n",
       "<table border=\"1\" class=\"dataframe\">\n",
       "  <thead>\n",
       "    <tr style=\"text-align: right;\">\n",
       "      <th></th>\n",
       "      <th>Actual</th>\n",
       "      <th>Prediction</th>\n",
       "    </tr>\n",
       "  </thead>\n",
       "  <tbody>\n",
       "    <tr>\n",
       "      <th>0</th>\n",
       "      <td>12.209188</td>\n",
       "      <td>12.636834</td>\n",
       "    </tr>\n",
       "    <tr>\n",
       "      <th>1</th>\n",
       "      <td>11.798104</td>\n",
       "      <td>11.882753</td>\n",
       "    </tr>\n",
       "    <tr>\n",
       "      <th>2</th>\n",
       "      <td>11.608236</td>\n",
       "      <td>11.766439</td>\n",
       "    </tr>\n",
       "    <tr>\n",
       "      <th>3</th>\n",
       "      <td>12.165251</td>\n",
       "      <td>12.446427</td>\n",
       "    </tr>\n",
       "    <tr>\n",
       "      <th>4</th>\n",
       "      <td>11.385092</td>\n",
       "      <td>11.392815</td>\n",
       "    </tr>\n",
       "  </tbody>\n",
       "</table>\n",
       "</div>"
      ],
      "text/plain": [
       "      Actual  Prediction\n",
       "0  12.209188   12.636834\n",
       "1  11.798104   11.882753\n",
       "2  11.608236   11.766439\n",
       "3  12.165251   12.446427\n",
       "4  11.385092   11.392815"
      ]
     },
     "metadata": {
      "tags": []
     },
     "output_type": "display_data"
    },
    {
     "data": {
      "text/html": [
       "<div>\n",
       "<style scoped>\n",
       "    .dataframe tbody tr th:only-of-type {\n",
       "        vertical-align: middle;\n",
       "    }\n",
       "\n",
       "    .dataframe tbody tr th {\n",
       "        vertical-align: top;\n",
       "    }\n",
       "\n",
       "    .dataframe thead th {\n",
       "        text-align: right;\n",
       "    }\n",
       "</style>\n",
       "<table border=\"1\" class=\"dataframe\">\n",
       "  <thead>\n",
       "    <tr style=\"text-align: right;\">\n",
       "      <th></th>\n",
       "      <th>MSE</th>\n",
       "      <th>RMSE</th>\n",
       "    </tr>\n",
       "  </thead>\n",
       "  <tbody>\n",
       "    <tr>\n",
       "      <th>train</th>\n",
       "      <td>0.015786</td>\n",
       "      <td>0.125641</td>\n",
       "    </tr>\n",
       "    <tr>\n",
       "      <th>validation</th>\n",
       "      <td>0.025257</td>\n",
       "      <td>0.158925</td>\n",
       "    </tr>\n",
       "  </tbody>\n",
       "</table>\n",
       "</div>"
      ],
      "text/plain": [
       "                 MSE      RMSE\n",
       "train       0.015786  0.125641\n",
       "validation  0.025257  0.158925"
      ]
     },
     "execution_count": 98,
     "metadata": {
      "tags": []
     },
     "output_type": "execute_result"
    }
   ],
   "source": [
    "tree_2 = Regression('Decision Tree Regression',x_train , y_train,x_val, y_val)\n",
    "tree_2.get_scores(params,5)"
   ]
  },
  {
   "cell_type": "markdown",
   "metadata": {
    "id": "UQnZzUtu5orJ"
   },
   "source": [
    "### **3rd Attempt**"
   ]
  },
  {
   "cell_type": "code",
   "execution_count": null,
   "metadata": {
    "id": "OaaPL2vU5orJ"
   },
   "outputs": [],
   "source": [
    "params = {\n",
    "    'max_depth': [9,10,11,12],\n",
    "    'min_samples_split': [25,27,29,31,33,35],\n",
    "    'max_features': [0.3,0.35,0.4,0.45,0.5],\n",
    "    'max_leaf_nodes': [90,100,110,120,130]\n",
    "}"
   ]
  },
  {
   "cell_type": "code",
   "execution_count": null,
   "metadata": {
    "colab": {
     "base_uri": "https://localhost:8080/",
     "height": 461
    },
    "id": "iy4TotB-5orK",
    "outputId": "d62bdebf-bbe0-4fd7-ca4b-83d1c8dd15d8"
   },
   "outputs": [
    {
     "data": {
      "text/html": [
       "<div>\n",
       "<style scoped>\n",
       "    .dataframe tbody tr th:only-of-type {\n",
       "        vertical-align: middle;\n",
       "    }\n",
       "\n",
       "    .dataframe tbody tr th {\n",
       "        vertical-align: top;\n",
       "    }\n",
       "\n",
       "    .dataframe thead th {\n",
       "        text-align: right;\n",
       "    }\n",
       "</style>\n",
       "<table border=\"1\" class=\"dataframe\">\n",
       "  <thead>\n",
       "    <tr style=\"text-align: right;\">\n",
       "      <th></th>\n",
       "      <th>Model Name</th>\n",
       "      <th>Train Score</th>\n",
       "      <th>Validation Score</th>\n",
       "      <th>Score Difference</th>\n",
       "    </tr>\n",
       "  </thead>\n",
       "  <tbody>\n",
       "    <tr>\n",
       "      <th>0</th>\n",
       "      <td>Decision Tree Regression</td>\n",
       "      <td>0.900896</td>\n",
       "      <td>0.812894</td>\n",
       "      <td>0.088002</td>\n",
       "    </tr>\n",
       "  </tbody>\n",
       "</table>\n",
       "</div>"
      ],
      "text/plain": [
       "                 Model Name  Train Score  Validation Score  Score Difference\n",
       "0  Decision Tree Regression     0.900896          0.812894          0.088002"
      ]
     },
     "metadata": {
      "tags": []
     },
     "output_type": "display_data"
    },
    {
     "name": "stdout",
     "output_type": "stream",
     "text": [
      "\n",
      "The best hyperparameters by gridsearchCv are :  {'max_depth': 11, 'max_features': 0.4, 'max_leaf_nodes': 90, 'min_samples_split': 29} \n",
      "\n",
      "time taken by hayper perameter for searching best perameter : 18.293215036392212 s \n",
      "\n"
     ]
    },
    {
     "data": {
      "text/html": [
       "<div>\n",
       "<style scoped>\n",
       "    .dataframe tbody tr th:only-of-type {\n",
       "        vertical-align: middle;\n",
       "    }\n",
       "\n",
       "    .dataframe tbody tr th {\n",
       "        vertical-align: top;\n",
       "    }\n",
       "\n",
       "    .dataframe thead th {\n",
       "        text-align: right;\n",
       "    }\n",
       "</style>\n",
       "<table border=\"1\" class=\"dataframe\">\n",
       "  <thead>\n",
       "    <tr style=\"text-align: right;\">\n",
       "      <th></th>\n",
       "      <th>Actual</th>\n",
       "      <th>Prediction</th>\n",
       "    </tr>\n",
       "  </thead>\n",
       "  <tbody>\n",
       "    <tr>\n",
       "      <th>0</th>\n",
       "      <td>12.209188</td>\n",
       "      <td>12.636834</td>\n",
       "    </tr>\n",
       "    <tr>\n",
       "      <th>1</th>\n",
       "      <td>11.798104</td>\n",
       "      <td>11.882753</td>\n",
       "    </tr>\n",
       "    <tr>\n",
       "      <th>2</th>\n",
       "      <td>11.608236</td>\n",
       "      <td>11.766439</td>\n",
       "    </tr>\n",
       "    <tr>\n",
       "      <th>3</th>\n",
       "      <td>12.165251</td>\n",
       "      <td>12.446427</td>\n",
       "    </tr>\n",
       "    <tr>\n",
       "      <th>4</th>\n",
       "      <td>11.385092</td>\n",
       "      <td>11.392815</td>\n",
       "    </tr>\n",
       "  </tbody>\n",
       "</table>\n",
       "</div>"
      ],
      "text/plain": [
       "      Actual  Prediction\n",
       "0  12.209188   12.636834\n",
       "1  11.798104   11.882753\n",
       "2  11.608236   11.766439\n",
       "3  12.165251   12.446427\n",
       "4  11.385092   11.392815"
      ]
     },
     "metadata": {
      "tags": []
     },
     "output_type": "display_data"
    },
    {
     "data": {
      "text/html": [
       "<div>\n",
       "<style scoped>\n",
       "    .dataframe tbody tr th:only-of-type {\n",
       "        vertical-align: middle;\n",
       "    }\n",
       "\n",
       "    .dataframe tbody tr th {\n",
       "        vertical-align: top;\n",
       "    }\n",
       "\n",
       "    .dataframe thead th {\n",
       "        text-align: right;\n",
       "    }\n",
       "</style>\n",
       "<table border=\"1\" class=\"dataframe\">\n",
       "  <thead>\n",
       "    <tr style=\"text-align: right;\">\n",
       "      <th></th>\n",
       "      <th>MSE</th>\n",
       "      <th>RMSE</th>\n",
       "    </tr>\n",
       "  </thead>\n",
       "  <tbody>\n",
       "    <tr>\n",
       "      <th>train</th>\n",
       "      <td>0.016050</td>\n",
       "      <td>0.12669</td>\n",
       "    </tr>\n",
       "    <tr>\n",
       "      <th>validation</th>\n",
       "      <td>0.025747</td>\n",
       "      <td>0.16046</td>\n",
       "    </tr>\n",
       "  </tbody>\n",
       "</table>\n",
       "</div>"
      ],
      "text/plain": [
       "                 MSE     RMSE\n",
       "train       0.016050  0.12669\n",
       "validation  0.025747  0.16046"
      ]
     },
     "execution_count": 100,
     "metadata": {
      "tags": []
     },
     "output_type": "execute_result"
    }
   ],
   "source": [
    "tree_3 = Regression('Decision Tree Regression',x_train , y_train,x_val, y_val)\n",
    "tree_3.get_scores(params,5)"
   ]
  },
  {
   "cell_type": "markdown",
   "metadata": {
    "id": "-EpYFGmO5orL"
   },
   "source": [
    "## **SVM Regression**"
   ]
  },
  {
   "cell_type": "code",
   "execution_count": null,
   "metadata": {
    "id": "sWKLpe1K5orM"
   },
   "outputs": [],
   "source": [
    "param_grid = {'C': [0.1, 1, 10, 100, 1000],  \n",
    "              'gamma': [1, 0.1, 0.01, 0.001, 0.0001], \n",
    "              'kernel': ['rbf','poly']}"
   ]
  },
  {
   "cell_type": "code",
   "execution_count": null,
   "metadata": {
    "id": "u5_97kBw5orM"
   },
   "outputs": [],
   "source": [
    "\n",
    "svm_1 = Regression('SVM Regression',x_train, y_train, x_val, y_val)"
   ]
  },
  {
   "cell_type": "code",
   "execution_count": null,
   "metadata": {
    "colab": {
     "base_uri": "https://localhost:8080/",
     "height": 441
    },
    "id": "x_VIe54j5orO",
    "outputId": "74e0f079-bb81-4e45-93a6-f94b65b704a2"
   },
   "outputs": [
    {
     "data": {
      "text/html": [
       "<div>\n",
       "<style scoped>\n",
       "    .dataframe tbody tr th:only-of-type {\n",
       "        vertical-align: middle;\n",
       "    }\n",
       "\n",
       "    .dataframe tbody tr th {\n",
       "        vertical-align: top;\n",
       "    }\n",
       "\n",
       "    .dataframe thead th {\n",
       "        text-align: right;\n",
       "    }\n",
       "</style>\n",
       "<table border=\"1\" class=\"dataframe\">\n",
       "  <thead>\n",
       "    <tr style=\"text-align: right;\">\n",
       "      <th></th>\n",
       "      <th>Model Name</th>\n",
       "      <th>Train Score</th>\n",
       "      <th>Validation Score</th>\n",
       "      <th>Score Difference</th>\n",
       "    </tr>\n",
       "  </thead>\n",
       "  <tbody>\n",
       "    <tr>\n",
       "      <th>0</th>\n",
       "      <td>SVM Regression</td>\n",
       "      <td>0.901144</td>\n",
       "      <td>0.88816</td>\n",
       "      <td>0.012984</td>\n",
       "    </tr>\n",
       "  </tbody>\n",
       "</table>\n",
       "</div>"
      ],
      "text/plain": [
       "       Model Name  Train Score  Validation Score  Score Difference\n",
       "0  SVM Regression     0.901144           0.88816          0.012984"
      ]
     },
     "metadata": {
      "tags": []
     },
     "output_type": "display_data"
    },
    {
     "name": "stdout",
     "output_type": "stream",
     "text": [
      "\n",
      "The best hyperparameters by gridsearchCv are :  {'C': 10, 'gamma': 0.01, 'kernel': 'rbf'} \n",
      "\n",
      "time taken by hayper perameter for searching best perameter : 236.89763879776 s \n",
      "\n"
     ]
    },
    {
     "data": {
      "text/html": [
       "<div>\n",
       "<style scoped>\n",
       "    .dataframe tbody tr th:only-of-type {\n",
       "        vertical-align: middle;\n",
       "    }\n",
       "\n",
       "    .dataframe tbody tr th {\n",
       "        vertical-align: top;\n",
       "    }\n",
       "\n",
       "    .dataframe thead th {\n",
       "        text-align: right;\n",
       "    }\n",
       "</style>\n",
       "<table border=\"1\" class=\"dataframe\">\n",
       "  <thead>\n",
       "    <tr style=\"text-align: right;\">\n",
       "      <th></th>\n",
       "      <th>Actual</th>\n",
       "      <th>Prediction</th>\n",
       "    </tr>\n",
       "  </thead>\n",
       "  <tbody>\n",
       "    <tr>\n",
       "      <th>0</th>\n",
       "      <td>12.209188</td>\n",
       "      <td>12.269604</td>\n",
       "    </tr>\n",
       "    <tr>\n",
       "      <th>1</th>\n",
       "      <td>11.798104</td>\n",
       "      <td>12.006733</td>\n",
       "    </tr>\n",
       "    <tr>\n",
       "      <th>2</th>\n",
       "      <td>11.608236</td>\n",
       "      <td>11.715443</td>\n",
       "    </tr>\n",
       "    <tr>\n",
       "      <th>3</th>\n",
       "      <td>12.165251</td>\n",
       "      <td>12.255735</td>\n",
       "    </tr>\n",
       "    <tr>\n",
       "      <th>4</th>\n",
       "      <td>11.385092</td>\n",
       "      <td>11.445123</td>\n",
       "    </tr>\n",
       "  </tbody>\n",
       "</table>\n",
       "</div>"
      ],
      "text/plain": [
       "      Actual  Prediction\n",
       "0  12.209188   12.269604\n",
       "1  11.798104   12.006733\n",
       "2  11.608236   11.715443\n",
       "3  12.165251   12.255735\n",
       "4  11.385092   11.445123"
      ]
     },
     "metadata": {
      "tags": []
     },
     "output_type": "display_data"
    },
    {
     "data": {
      "text/html": [
       "<div>\n",
       "<style scoped>\n",
       "    .dataframe tbody tr th:only-of-type {\n",
       "        vertical-align: middle;\n",
       "    }\n",
       "\n",
       "    .dataframe tbody tr th {\n",
       "        vertical-align: top;\n",
       "    }\n",
       "\n",
       "    .dataframe thead th {\n",
       "        text-align: right;\n",
       "    }\n",
       "</style>\n",
       "<table border=\"1\" class=\"dataframe\">\n",
       "  <thead>\n",
       "    <tr style=\"text-align: right;\">\n",
       "      <th></th>\n",
       "      <th>MSE</th>\n",
       "      <th>RMSE</th>\n",
       "    </tr>\n",
       "  </thead>\n",
       "  <tbody>\n",
       "    <tr>\n",
       "      <th>train</th>\n",
       "      <td>0.01601</td>\n",
       "      <td>0.126531</td>\n",
       "    </tr>\n",
       "    <tr>\n",
       "      <th>validation</th>\n",
       "      <td>0.01539</td>\n",
       "      <td>0.124057</td>\n",
       "    </tr>\n",
       "  </tbody>\n",
       "</table>\n",
       "</div>"
      ],
      "text/plain": [
       "                MSE      RMSE\n",
       "train       0.01601  0.126531\n",
       "validation  0.01539  0.124057"
      ]
     },
     "execution_count": 103,
     "metadata": {
      "tags": []
     },
     "output_type": "execute_result"
    }
   ],
   "source": [
    "svm_1.get_scores(param_grid,5)"
   ]
  },
  {
   "cell_type": "code",
   "execution_count": null,
   "metadata": {
    "id": "uMbpESV45orQ"
   },
   "outputs": [],
   "source": [
    "param_grid = {'C': [8,9,10,11,12,15],  \n",
    "              'gamma': [0.01,0.03,0.05,0.07,0.09], \n",
    "              'kernel': ['rbf']}"
   ]
  },
  {
   "cell_type": "code",
   "execution_count": null,
   "metadata": {
    "id": "zjaRQEeS5orS"
   },
   "outputs": [],
   "source": [
    "\n",
    "svm_2 = Regression('SVM Regression',x_train, y_train, x_val, y_val)"
   ]
  },
  {
   "cell_type": "code",
   "execution_count": null,
   "metadata": {
    "colab": {
     "base_uri": "https://localhost:8080/",
     "height": 441
    },
    "id": "m9N3hKVS5orS",
    "outputId": "0d03f636-76e8-49c1-dc29-3bc6bf01b3cc"
   },
   "outputs": [
    {
     "data": {
      "text/html": [
       "<div>\n",
       "<style scoped>\n",
       "    .dataframe tbody tr th:only-of-type {\n",
       "        vertical-align: middle;\n",
       "    }\n",
       "\n",
       "    .dataframe tbody tr th {\n",
       "        vertical-align: top;\n",
       "    }\n",
       "\n",
       "    .dataframe thead th {\n",
       "        text-align: right;\n",
       "    }\n",
       "</style>\n",
       "<table border=\"1\" class=\"dataframe\">\n",
       "  <thead>\n",
       "    <tr style=\"text-align: right;\">\n",
       "      <th></th>\n",
       "      <th>Model Name</th>\n",
       "      <th>Train Score</th>\n",
       "      <th>Validation Score</th>\n",
       "      <th>Score Difference</th>\n",
       "    </tr>\n",
       "  </thead>\n",
       "  <tbody>\n",
       "    <tr>\n",
       "      <th>0</th>\n",
       "      <td>SVM Regression</td>\n",
       "      <td>0.914026</td>\n",
       "      <td>0.891452</td>\n",
       "      <td>0.022574</td>\n",
       "    </tr>\n",
       "  </tbody>\n",
       "</table>\n",
       "</div>"
      ],
      "text/plain": [
       "       Model Name  Train Score  Validation Score  Score Difference\n",
       "0  SVM Regression     0.914026          0.891452          0.022574"
      ]
     },
     "metadata": {
      "tags": []
     },
     "output_type": "display_data"
    },
    {
     "name": "stdout",
     "output_type": "stream",
     "text": [
      "\n",
      "The best hyperparameters by gridsearchCv are :  {'C': 8, 'gamma': 0.05, 'kernel': 'rbf'} \n",
      "\n",
      "time taken by hayper perameter for searching best perameter : 11.470091581344604 s \n",
      "\n"
     ]
    },
    {
     "data": {
      "text/html": [
       "<div>\n",
       "<style scoped>\n",
       "    .dataframe tbody tr th:only-of-type {\n",
       "        vertical-align: middle;\n",
       "    }\n",
       "\n",
       "    .dataframe tbody tr th {\n",
       "        vertical-align: top;\n",
       "    }\n",
       "\n",
       "    .dataframe thead th {\n",
       "        text-align: right;\n",
       "    }\n",
       "</style>\n",
       "<table border=\"1\" class=\"dataframe\">\n",
       "  <thead>\n",
       "    <tr style=\"text-align: right;\">\n",
       "      <th></th>\n",
       "      <th>Actual</th>\n",
       "      <th>Prediction</th>\n",
       "    </tr>\n",
       "  </thead>\n",
       "  <tbody>\n",
       "    <tr>\n",
       "      <th>0</th>\n",
       "      <td>12.209188</td>\n",
       "      <td>12.249964</td>\n",
       "    </tr>\n",
       "    <tr>\n",
       "      <th>1</th>\n",
       "      <td>11.798104</td>\n",
       "      <td>12.030175</td>\n",
       "    </tr>\n",
       "    <tr>\n",
       "      <th>2</th>\n",
       "      <td>11.608236</td>\n",
       "      <td>11.680111</td>\n",
       "    </tr>\n",
       "    <tr>\n",
       "      <th>3</th>\n",
       "      <td>12.165251</td>\n",
       "      <td>12.274479</td>\n",
       "    </tr>\n",
       "    <tr>\n",
       "      <th>4</th>\n",
       "      <td>11.385092</td>\n",
       "      <td>11.431210</td>\n",
       "    </tr>\n",
       "  </tbody>\n",
       "</table>\n",
       "</div>"
      ],
      "text/plain": [
       "      Actual  Prediction\n",
       "0  12.209188   12.249964\n",
       "1  11.798104   12.030175\n",
       "2  11.608236   11.680111\n",
       "3  12.165251   12.274479\n",
       "4  11.385092   11.431210"
      ]
     },
     "metadata": {
      "tags": []
     },
     "output_type": "display_data"
    },
    {
     "data": {
      "text/html": [
       "<div>\n",
       "<style scoped>\n",
       "    .dataframe tbody tr th:only-of-type {\n",
       "        vertical-align: middle;\n",
       "    }\n",
       "\n",
       "    .dataframe tbody tr th {\n",
       "        vertical-align: top;\n",
       "    }\n",
       "\n",
       "    .dataframe thead th {\n",
       "        text-align: right;\n",
       "    }\n",
       "</style>\n",
       "<table border=\"1\" class=\"dataframe\">\n",
       "  <thead>\n",
       "    <tr style=\"text-align: right;\">\n",
       "      <th></th>\n",
       "      <th>MSE</th>\n",
       "      <th>RMSE</th>\n",
       "    </tr>\n",
       "  </thead>\n",
       "  <tbody>\n",
       "    <tr>\n",
       "      <th>train</th>\n",
       "      <td>0.013924</td>\n",
       "      <td>0.118000</td>\n",
       "    </tr>\n",
       "    <tr>\n",
       "      <th>validation</th>\n",
       "      <td>0.014937</td>\n",
       "      <td>0.122217</td>\n",
       "    </tr>\n",
       "  </tbody>\n",
       "</table>\n",
       "</div>"
      ],
      "text/plain": [
       "                 MSE      RMSE\n",
       "train       0.013924  0.118000\n",
       "validation  0.014937  0.122217"
      ]
     },
     "execution_count": 106,
     "metadata": {
      "tags": []
     },
     "output_type": "execute_result"
    }
   ],
   "source": [
    "svm_2.get_scores(param_grid,5)"
   ]
  },
  {
   "cell_type": "code",
   "execution_count": null,
   "metadata": {
    "id": "KzDnZ5Ws5orT"
   },
   "outputs": [],
   "source": [
    "param_grid = {'C': [5,6,7,8,9],  \n",
    "              'gamma': [0.03,0.04,0.05,0.06], \n",
    "              'kernel': ['rbf']}"
   ]
  },
  {
   "cell_type": "code",
   "execution_count": null,
   "metadata": {
    "id": "RpIi5vln5orU"
   },
   "outputs": [],
   "source": [
    "\n",
    "svm_3 = Regression('SVM Regression',x_train, y_train, x_val, y_val)"
   ]
  },
  {
   "cell_type": "code",
   "execution_count": null,
   "metadata": {
    "colab": {
     "base_uri": "https://localhost:8080/",
     "height": 441
    },
    "id": "rEk4X6yx5orU",
    "outputId": "98f0b2f1-bb37-41b6-9df2-752b105e16a1"
   },
   "outputs": [
    {
     "data": {
      "text/html": [
       "<div>\n",
       "<style scoped>\n",
       "    .dataframe tbody tr th:only-of-type {\n",
       "        vertical-align: middle;\n",
       "    }\n",
       "\n",
       "    .dataframe tbody tr th {\n",
       "        vertical-align: top;\n",
       "    }\n",
       "\n",
       "    .dataframe thead th {\n",
       "        text-align: right;\n",
       "    }\n",
       "</style>\n",
       "<table border=\"1\" class=\"dataframe\">\n",
       "  <thead>\n",
       "    <tr style=\"text-align: right;\">\n",
       "      <th></th>\n",
       "      <th>Model Name</th>\n",
       "      <th>Train Score</th>\n",
       "      <th>Validation Score</th>\n",
       "      <th>Score Difference</th>\n",
       "    </tr>\n",
       "  </thead>\n",
       "  <tbody>\n",
       "    <tr>\n",
       "      <th>0</th>\n",
       "      <td>SVM Regression</td>\n",
       "      <td>0.913282</td>\n",
       "      <td>0.890201</td>\n",
       "      <td>0.02308</td>\n",
       "    </tr>\n",
       "  </tbody>\n",
       "</table>\n",
       "</div>"
      ],
      "text/plain": [
       "       Model Name  Train Score  Validation Score  Score Difference\n",
       "0  SVM Regression     0.913282          0.890201           0.02308"
      ]
     },
     "metadata": {
      "tags": []
     },
     "output_type": "display_data"
    },
    {
     "name": "stdout",
     "output_type": "stream",
     "text": [
      "\n",
      "The best hyperparameters by gridsearchCv are :  {'C': 5, 'gamma': 0.06, 'kernel': 'rbf'} \n",
      "\n",
      "time taken by hayper perameter for searching best perameter : 7.043693542480469 s \n",
      "\n"
     ]
    },
    {
     "data": {
      "text/html": [
       "<div>\n",
       "<style scoped>\n",
       "    .dataframe tbody tr th:only-of-type {\n",
       "        vertical-align: middle;\n",
       "    }\n",
       "\n",
       "    .dataframe tbody tr th {\n",
       "        vertical-align: top;\n",
       "    }\n",
       "\n",
       "    .dataframe thead th {\n",
       "        text-align: right;\n",
       "    }\n",
       "</style>\n",
       "<table border=\"1\" class=\"dataframe\">\n",
       "  <thead>\n",
       "    <tr style=\"text-align: right;\">\n",
       "      <th></th>\n",
       "      <th>Actual</th>\n",
       "      <th>Prediction</th>\n",
       "    </tr>\n",
       "  </thead>\n",
       "  <tbody>\n",
       "    <tr>\n",
       "      <th>0</th>\n",
       "      <td>12.209188</td>\n",
       "      <td>12.252994</td>\n",
       "    </tr>\n",
       "    <tr>\n",
       "      <th>1</th>\n",
       "      <td>11.798104</td>\n",
       "      <td>12.029178</td>\n",
       "    </tr>\n",
       "    <tr>\n",
       "      <th>2</th>\n",
       "      <td>11.608236</td>\n",
       "      <td>11.683765</td>\n",
       "    </tr>\n",
       "    <tr>\n",
       "      <th>3</th>\n",
       "      <td>12.165251</td>\n",
       "      <td>12.272317</td>\n",
       "    </tr>\n",
       "    <tr>\n",
       "      <th>4</th>\n",
       "      <td>11.385092</td>\n",
       "      <td>11.431496</td>\n",
       "    </tr>\n",
       "  </tbody>\n",
       "</table>\n",
       "</div>"
      ],
      "text/plain": [
       "      Actual  Prediction\n",
       "0  12.209188   12.252994\n",
       "1  11.798104   12.029178\n",
       "2  11.608236   11.683765\n",
       "3  12.165251   12.272317\n",
       "4  11.385092   11.431496"
      ]
     },
     "metadata": {
      "tags": []
     },
     "output_type": "display_data"
    },
    {
     "data": {
      "text/html": [
       "<div>\n",
       "<style scoped>\n",
       "    .dataframe tbody tr th:only-of-type {\n",
       "        vertical-align: middle;\n",
       "    }\n",
       "\n",
       "    .dataframe tbody tr th {\n",
       "        vertical-align: top;\n",
       "    }\n",
       "\n",
       "    .dataframe thead th {\n",
       "        text-align: right;\n",
       "    }\n",
       "</style>\n",
       "<table border=\"1\" class=\"dataframe\">\n",
       "  <thead>\n",
       "    <tr style=\"text-align: right;\">\n",
       "      <th></th>\n",
       "      <th>MSE</th>\n",
       "      <th>RMSE</th>\n",
       "    </tr>\n",
       "  </thead>\n",
       "  <tbody>\n",
       "    <tr>\n",
       "      <th>train</th>\n",
       "      <td>0.014044</td>\n",
       "      <td>0.118509</td>\n",
       "    </tr>\n",
       "    <tr>\n",
       "      <th>validation</th>\n",
       "      <td>0.015109</td>\n",
       "      <td>0.122919</td>\n",
       "    </tr>\n",
       "  </tbody>\n",
       "</table>\n",
       "</div>"
      ],
      "text/plain": [
       "                 MSE      RMSE\n",
       "train       0.014044  0.118509\n",
       "validation  0.015109  0.122919"
      ]
     },
     "execution_count": 109,
     "metadata": {
      "tags": []
     },
     "output_type": "execute_result"
    }
   ],
   "source": [
    "svm_3.get_scores(param_grid,5)"
   ]
  },
  {
   "cell_type": "markdown",
   "metadata": {
    "id": "yhDO3Upg5orV"
   },
   "source": [
    "## **Random Forest Regressor**"
   ]
  },
  {
   "cell_type": "code",
   "execution_count": null,
   "metadata": {
    "id": "Fn0Bg4vf5orV"
   },
   "outputs": [],
   "source": [
    "n_estimators = [10,20,40,60,80,100]\n",
    "# Number of features to consider at every split\n",
    "max_features = ['auto', 'sqrt']\n",
    "# Maximum number of levels in tree\n",
    "max_depth = [5,7,8,9,11,12,]\n",
    "\n",
    "# Minimum number of samples required to split a node\n",
    "min_samples_split = [5,8,12,15,20]\n",
    "# Minimum number of samples required at each leaf node\n",
    "min_samples_leaf = [10,15,20,25]\n",
    "# Method of selecting samples for training each tree\n",
    "bootstrap = [True, False]\n",
    "# Create the random grid\n",
    "random_grid = {'n_estimators': n_estimators,\n",
    "               'max_features': max_features,\n",
    "               'max_depth': max_depth,\n",
    "               'min_samples_split': min_samples_split,\n",
    "               'min_samples_leaf': min_samples_leaf,\n",
    "               'bootstrap': bootstrap}"
   ]
  },
  {
   "cell_type": "code",
   "execution_count": null,
   "metadata": {
    "colab": {
     "base_uri": "https://localhost:8080/",
     "height": 461
    },
    "id": "_406UpIs5orW",
    "outputId": "3df7a413-2b1c-499a-9430-0723fe505fb7"
   },
   "outputs": [
    {
     "data": {
      "text/html": [
       "<div>\n",
       "<style scoped>\n",
       "    .dataframe tbody tr th:only-of-type {\n",
       "        vertical-align: middle;\n",
       "    }\n",
       "\n",
       "    .dataframe tbody tr th {\n",
       "        vertical-align: top;\n",
       "    }\n",
       "\n",
       "    .dataframe thead th {\n",
       "        text-align: right;\n",
       "    }\n",
       "</style>\n",
       "<table border=\"1\" class=\"dataframe\">\n",
       "  <thead>\n",
       "    <tr style=\"text-align: right;\">\n",
       "      <th></th>\n",
       "      <th>Model Name</th>\n",
       "      <th>Train Score</th>\n",
       "      <th>Validation Score</th>\n",
       "      <th>Score Difference</th>\n",
       "    </tr>\n",
       "  </thead>\n",
       "  <tbody>\n",
       "    <tr>\n",
       "      <th>0</th>\n",
       "      <td>Random Forest Regression</td>\n",
       "      <td>0.909441</td>\n",
       "      <td>0.876788</td>\n",
       "      <td>0.032653</td>\n",
       "    </tr>\n",
       "  </tbody>\n",
       "</table>\n",
       "</div>"
      ],
      "text/plain": [
       "                 Model Name  Train Score  Validation Score  Score Difference\n",
       "0  Random Forest Regression     0.909441          0.876788          0.032653"
      ]
     },
     "metadata": {
      "tags": []
     },
     "output_type": "display_data"
    },
    {
     "name": "stdout",
     "output_type": "stream",
     "text": [
      "\n",
      "The best hyperparameters by gridsearchCv are :  {'bootstrap': False, 'max_depth': 9, 'max_features': 'sqrt', 'min_samples_leaf': 10, 'min_samples_split': 5, 'n_estimators': 60} \n",
      "\n",
      "time taken by hayper perameter for searching best perameter : 867.9922304153442 s \n",
      "\n"
     ]
    },
    {
     "data": {
      "text/html": [
       "<div>\n",
       "<style scoped>\n",
       "    .dataframe tbody tr th:only-of-type {\n",
       "        vertical-align: middle;\n",
       "    }\n",
       "\n",
       "    .dataframe tbody tr th {\n",
       "        vertical-align: top;\n",
       "    }\n",
       "\n",
       "    .dataframe thead th {\n",
       "        text-align: right;\n",
       "    }\n",
       "</style>\n",
       "<table border=\"1\" class=\"dataframe\">\n",
       "  <thead>\n",
       "    <tr style=\"text-align: right;\">\n",
       "      <th></th>\n",
       "      <th>Actual</th>\n",
       "      <th>Prediction</th>\n",
       "    </tr>\n",
       "  </thead>\n",
       "  <tbody>\n",
       "    <tr>\n",
       "      <th>0</th>\n",
       "      <td>12.209188</td>\n",
       "      <td>12.245962</td>\n",
       "    </tr>\n",
       "    <tr>\n",
       "      <th>1</th>\n",
       "      <td>11.798104</td>\n",
       "      <td>11.887788</td>\n",
       "    </tr>\n",
       "    <tr>\n",
       "      <th>2</th>\n",
       "      <td>11.608236</td>\n",
       "      <td>11.711830</td>\n",
       "    </tr>\n",
       "    <tr>\n",
       "      <th>3</th>\n",
       "      <td>12.165251</td>\n",
       "      <td>12.267734</td>\n",
       "    </tr>\n",
       "    <tr>\n",
       "      <th>4</th>\n",
       "      <td>11.385092</td>\n",
       "      <td>11.486636</td>\n",
       "    </tr>\n",
       "  </tbody>\n",
       "</table>\n",
       "</div>"
      ],
      "text/plain": [
       "      Actual  Prediction\n",
       "0  12.209188   12.245962\n",
       "1  11.798104   11.887788\n",
       "2  11.608236   11.711830\n",
       "3  12.165251   12.267734\n",
       "4  11.385092   11.486636"
      ]
     },
     "metadata": {
      "tags": []
     },
     "output_type": "display_data"
    },
    {
     "data": {
      "text/html": [
       "<div>\n",
       "<style scoped>\n",
       "    .dataframe tbody tr th:only-of-type {\n",
       "        vertical-align: middle;\n",
       "    }\n",
       "\n",
       "    .dataframe tbody tr th {\n",
       "        vertical-align: top;\n",
       "    }\n",
       "\n",
       "    .dataframe thead th {\n",
       "        text-align: right;\n",
       "    }\n",
       "</style>\n",
       "<table border=\"1\" class=\"dataframe\">\n",
       "  <thead>\n",
       "    <tr style=\"text-align: right;\">\n",
       "      <th></th>\n",
       "      <th>MSE</th>\n",
       "      <th>RMSE</th>\n",
       "    </tr>\n",
       "  </thead>\n",
       "  <tbody>\n",
       "    <tr>\n",
       "      <th>train</th>\n",
       "      <td>0.014667</td>\n",
       "      <td>0.121105</td>\n",
       "    </tr>\n",
       "    <tr>\n",
       "      <th>validation</th>\n",
       "      <td>0.016955</td>\n",
       "      <td>0.130211</td>\n",
       "    </tr>\n",
       "  </tbody>\n",
       "</table>\n",
       "</div>"
      ],
      "text/plain": [
       "                 MSE      RMSE\n",
       "train       0.014667  0.121105\n",
       "validation  0.016955  0.130211"
      ]
     },
     "execution_count": 111,
     "metadata": {
      "tags": []
     },
     "output_type": "execute_result"
    }
   ],
   "source": [
    "ran_for_1 = Regression('Random Forest Regression',x_train , y_train,x_val, y_val)\n",
    "ran_for_1.get_scores(random_grid,3)"
   ]
  },
  {
   "cell_type": "code",
   "execution_count": null,
   "metadata": {
    "id": "ALxaaAZ75orX"
   },
   "outputs": [],
   "source": [
    "n_estimators = [100,200,300,400,500]\n",
    "# Number of features to consider at every split\n",
    "max_features = ['sqrt']\n",
    "# Maximum number of levels in tree\n",
    "max_depth = [11,12,13,14,15]\n",
    "\n",
    "# Minimum number of samples required to split a node\n",
    "min_samples_split = [7,8,9,10]\n",
    "# Minimum number of samples required at each leaf node\n",
    "min_samples_leaf = [10,15,20,30]\n",
    "# Method of selecting samples for training each tree\n",
    "bootstrap = [False]\n",
    "# Create the random grid\n",
    "random_grid = {'n_estimators': n_estimators,\n",
    "               'max_features': max_features,\n",
    "               'max_depth': max_depth,\n",
    "               'min_samples_split': min_samples_split,\n",
    "               'min_samples_leaf': min_samples_leaf,\n",
    "               'bootstrap': bootstrap}"
   ]
  },
  {
   "cell_type": "code",
   "execution_count": null,
   "metadata": {
    "colab": {
     "base_uri": "https://localhost:8080/",
     "height": 461
    },
    "id": "GeOy1SN65orX",
    "outputId": "9327396b-4d9d-4c0b-c9d0-309b63a7ce1b"
   },
   "outputs": [
    {
     "data": {
      "text/html": [
       "<div>\n",
       "<style scoped>\n",
       "    .dataframe tbody tr th:only-of-type {\n",
       "        vertical-align: middle;\n",
       "    }\n",
       "\n",
       "    .dataframe tbody tr th {\n",
       "        vertical-align: top;\n",
       "    }\n",
       "\n",
       "    .dataframe thead th {\n",
       "        text-align: right;\n",
       "    }\n",
       "</style>\n",
       "<table border=\"1\" class=\"dataframe\">\n",
       "  <thead>\n",
       "    <tr style=\"text-align: right;\">\n",
       "      <th></th>\n",
       "      <th>Model Name</th>\n",
       "      <th>Train Score</th>\n",
       "      <th>Validation Score</th>\n",
       "      <th>Score Difference</th>\n",
       "    </tr>\n",
       "  </thead>\n",
       "  <tbody>\n",
       "    <tr>\n",
       "      <th>0</th>\n",
       "      <td>Random Forest Regression</td>\n",
       "      <td>0.912372</td>\n",
       "      <td>0.881365</td>\n",
       "      <td>0.031007</td>\n",
       "    </tr>\n",
       "  </tbody>\n",
       "</table>\n",
       "</div>"
      ],
      "text/plain": [
       "                 Model Name  Train Score  Validation Score  Score Difference\n",
       "0  Random Forest Regression     0.912372          0.881365          0.031007"
      ]
     },
     "metadata": {
      "tags": []
     },
     "output_type": "display_data"
    },
    {
     "name": "stdout",
     "output_type": "stream",
     "text": [
      "\n",
      "The best hyperparameters by gridsearchCv are :  {'bootstrap': False, 'max_depth': 11, 'max_features': 'sqrt', 'min_samples_leaf': 10, 'min_samples_split': 8, 'n_estimators': 400} \n",
      "\n",
      "time taken by hayper perameter for searching best perameter : 821.3944976329803 s \n",
      "\n"
     ]
    },
    {
     "data": {
      "text/html": [
       "<div>\n",
       "<style scoped>\n",
       "    .dataframe tbody tr th:only-of-type {\n",
       "        vertical-align: middle;\n",
       "    }\n",
       "\n",
       "    .dataframe tbody tr th {\n",
       "        vertical-align: top;\n",
       "    }\n",
       "\n",
       "    .dataframe thead th {\n",
       "        text-align: right;\n",
       "    }\n",
       "</style>\n",
       "<table border=\"1\" class=\"dataframe\">\n",
       "  <thead>\n",
       "    <tr style=\"text-align: right;\">\n",
       "      <th></th>\n",
       "      <th>Actual</th>\n",
       "      <th>Prediction</th>\n",
       "    </tr>\n",
       "  </thead>\n",
       "  <tbody>\n",
       "    <tr>\n",
       "      <th>0</th>\n",
       "      <td>12.209188</td>\n",
       "      <td>12.236315</td>\n",
       "    </tr>\n",
       "    <tr>\n",
       "      <th>1</th>\n",
       "      <td>11.798104</td>\n",
       "      <td>11.897506</td>\n",
       "    </tr>\n",
       "    <tr>\n",
       "      <th>2</th>\n",
       "      <td>11.608236</td>\n",
       "      <td>11.726923</td>\n",
       "    </tr>\n",
       "    <tr>\n",
       "      <th>3</th>\n",
       "      <td>12.165251</td>\n",
       "      <td>12.260697</td>\n",
       "    </tr>\n",
       "    <tr>\n",
       "      <th>4</th>\n",
       "      <td>11.385092</td>\n",
       "      <td>11.486016</td>\n",
       "    </tr>\n",
       "  </tbody>\n",
       "</table>\n",
       "</div>"
      ],
      "text/plain": [
       "      Actual  Prediction\n",
       "0  12.209188   12.236315\n",
       "1  11.798104   11.897506\n",
       "2  11.608236   11.726923\n",
       "3  12.165251   12.260697\n",
       "4  11.385092   11.486016"
      ]
     },
     "metadata": {
      "tags": []
     },
     "output_type": "display_data"
    },
    {
     "data": {
      "text/html": [
       "<div>\n",
       "<style scoped>\n",
       "    .dataframe tbody tr th:only-of-type {\n",
       "        vertical-align: middle;\n",
       "    }\n",
       "\n",
       "    .dataframe tbody tr th {\n",
       "        vertical-align: top;\n",
       "    }\n",
       "\n",
       "    .dataframe thead th {\n",
       "        text-align: right;\n",
       "    }\n",
       "</style>\n",
       "<table border=\"1\" class=\"dataframe\">\n",
       "  <thead>\n",
       "    <tr style=\"text-align: right;\">\n",
       "      <th></th>\n",
       "      <th>MSE</th>\n",
       "      <th>RMSE</th>\n",
       "    </tr>\n",
       "  </thead>\n",
       "  <tbody>\n",
       "    <tr>\n",
       "      <th>train</th>\n",
       "      <td>0.014192</td>\n",
       "      <td>0.119129</td>\n",
       "    </tr>\n",
       "    <tr>\n",
       "      <th>validation</th>\n",
       "      <td>0.016325</td>\n",
       "      <td>0.127770</td>\n",
       "    </tr>\n",
       "  </tbody>\n",
       "</table>\n",
       "</div>"
      ],
      "text/plain": [
       "                 MSE      RMSE\n",
       "train       0.014192  0.119129\n",
       "validation  0.016325  0.127770"
      ]
     },
     "execution_count": 113,
     "metadata": {
      "tags": []
     },
     "output_type": "execute_result"
    }
   ],
   "source": [
    "ran_for_2 = Regression('Random Forest Regression',x_train , y_train,x_val, y_val)\n",
    "ran_for_2.get_scores(random_grid,5)"
   ]
  },
  {
   "cell_type": "markdown",
   "metadata": {
    "id": "EDb9Ohi75orY"
   },
   "source": [
    "## **XGBoost**"
   ]
  },
  {
   "cell_type": "code",
   "execution_count": null,
   "metadata": {
    "id": "zOSgmljq5orY"
   },
   "outputs": [],
   "source": [
    "params = {\"eta\":[0.01,0.05,0.2],\n",
    "          \"eval_metric\":['rmse'],\n",
    "         \"max_depth\" : [ 5,8,12,15],\n",
    "         \"min_child_weight\" : [ 1, 3, 5, 7 ],\n",
    "         \"gamma\"   : [ 0.0,0.3,0.4 ],\n",
    "         \"colsample_bytree\" : [ 0.3,0.5,0.7 ]}\n"
   ]
  },
  {
   "cell_type": "code",
   "execution_count": null,
   "metadata": {
    "colab": {
     "base_uri": "https://localhost:8080/",
     "height": 479
    },
    "id": "mUk7salc5orZ",
    "outputId": "ee96d431-da41-4295-d16f-dacf48549e28"
   },
   "outputs": [
    {
     "name": "stdout",
     "output_type": "stream",
     "text": [
      "[04:30:04] WARNING: /workspace/src/objective/regression_obj.cu:152: reg:linear is now deprecated in favor of reg:squarederror.\n"
     ]
    },
    {
     "data": {
      "text/html": [
       "<div>\n",
       "<style scoped>\n",
       "    .dataframe tbody tr th:only-of-type {\n",
       "        vertical-align: middle;\n",
       "    }\n",
       "\n",
       "    .dataframe tbody tr th {\n",
       "        vertical-align: top;\n",
       "    }\n",
       "\n",
       "    .dataframe thead th {\n",
       "        text-align: right;\n",
       "    }\n",
       "</style>\n",
       "<table border=\"1\" class=\"dataframe\">\n",
       "  <thead>\n",
       "    <tr style=\"text-align: right;\">\n",
       "      <th></th>\n",
       "      <th>Model Name</th>\n",
       "      <th>Train Score</th>\n",
       "      <th>Validation Score</th>\n",
       "      <th>Score Difference</th>\n",
       "    </tr>\n",
       "  </thead>\n",
       "  <tbody>\n",
       "    <tr>\n",
       "      <th>0</th>\n",
       "      <td>XGBoost</td>\n",
       "      <td>0.980347</td>\n",
       "      <td>0.881575</td>\n",
       "      <td>0.098772</td>\n",
       "    </tr>\n",
       "  </tbody>\n",
       "</table>\n",
       "</div>"
      ],
      "text/plain": [
       "  Model Name  Train Score  Validation Score  Score Difference\n",
       "0    XGBoost     0.980347          0.881575          0.098772"
      ]
     },
     "metadata": {
      "tags": []
     },
     "output_type": "display_data"
    },
    {
     "name": "stdout",
     "output_type": "stream",
     "text": [
      "\n",
      "The best hyperparameters are:  {'colsample_bytree': 0.3, 'eta': 0.01, 'eval_metric': 'rmse', 'gamma': 0.0, 'max_depth': 8, 'min_child_weight': 3} \n",
      "\n",
      "time taken by hayper perameter for searching best perameter : 278.15272283554077 s \n",
      "\n"
     ]
    },
    {
     "data": {
      "text/html": [
       "<div>\n",
       "<style scoped>\n",
       "    .dataframe tbody tr th:only-of-type {\n",
       "        vertical-align: middle;\n",
       "    }\n",
       "\n",
       "    .dataframe tbody tr th {\n",
       "        vertical-align: top;\n",
       "    }\n",
       "\n",
       "    .dataframe thead th {\n",
       "        text-align: right;\n",
       "    }\n",
       "</style>\n",
       "<table border=\"1\" class=\"dataframe\">\n",
       "  <thead>\n",
       "    <tr style=\"text-align: right;\">\n",
       "      <th></th>\n",
       "      <th>Actual</th>\n",
       "      <th>Prediction</th>\n",
       "    </tr>\n",
       "  </thead>\n",
       "  <tbody>\n",
       "    <tr>\n",
       "      <th>0</th>\n",
       "      <td>12.209188</td>\n",
       "      <td>12.244984</td>\n",
       "    </tr>\n",
       "    <tr>\n",
       "      <th>1</th>\n",
       "      <td>11.798104</td>\n",
       "      <td>11.941896</td>\n",
       "    </tr>\n",
       "    <tr>\n",
       "      <th>2</th>\n",
       "      <td>11.608236</td>\n",
       "      <td>11.669693</td>\n",
       "    </tr>\n",
       "    <tr>\n",
       "      <th>3</th>\n",
       "      <td>12.165251</td>\n",
       "      <td>12.299916</td>\n",
       "    </tr>\n",
       "    <tr>\n",
       "      <th>4</th>\n",
       "      <td>11.385092</td>\n",
       "      <td>11.481414</td>\n",
       "    </tr>\n",
       "  </tbody>\n",
       "</table>\n",
       "</div>"
      ],
      "text/plain": [
       "      Actual  Prediction\n",
       "0  12.209188   12.244984\n",
       "1  11.798104   11.941896\n",
       "2  11.608236   11.669693\n",
       "3  12.165251   12.299916\n",
       "4  11.385092   11.481414"
      ]
     },
     "metadata": {
      "tags": []
     },
     "output_type": "display_data"
    },
    {
     "data": {
      "text/html": [
       "<div>\n",
       "<style scoped>\n",
       "    .dataframe tbody tr th:only-of-type {\n",
       "        vertical-align: middle;\n",
       "    }\n",
       "\n",
       "    .dataframe tbody tr th {\n",
       "        vertical-align: top;\n",
       "    }\n",
       "\n",
       "    .dataframe thead th {\n",
       "        text-align: right;\n",
       "    }\n",
       "</style>\n",
       "<table border=\"1\" class=\"dataframe\">\n",
       "  <thead>\n",
       "    <tr style=\"text-align: right;\">\n",
       "      <th></th>\n",
       "      <th>MSE</th>\n",
       "      <th>RMSE</th>\n",
       "    </tr>\n",
       "  </thead>\n",
       "  <tbody>\n",
       "    <tr>\n",
       "      <th>train</th>\n",
       "      <td>0.003183</td>\n",
       "      <td>0.056417</td>\n",
       "    </tr>\n",
       "    <tr>\n",
       "      <th>validation</th>\n",
       "      <td>0.016296</td>\n",
       "      <td>0.127657</td>\n",
       "    </tr>\n",
       "  </tbody>\n",
       "</table>\n",
       "</div>"
      ],
      "text/plain": [
       "                 MSE      RMSE\n",
       "train       0.003183  0.056417\n",
       "validation  0.016296  0.127657"
      ]
     },
     "execution_count": 19,
     "metadata": {
      "tags": []
     },
     "output_type": "execute_result"
    }
   ],
   "source": [
    "xgboost_1 = Ensemble('XGBoost',x_train , y_train,x_val, y_val)\n",
    "xgboost_1.get_scores(params,5)"
   ]
  },
  {
   "cell_type": "code",
   "execution_count": null,
   "metadata": {
    "id": "H303y4lY4AD3"
   },
   "outputs": [],
   "source": [
    "params = {\"eta\":[0.001,0.005,0.1],\n",
    "         \"n_estimators\":[100,200,500],\n",
    "         \"max_depth\" : [ 6,7,8,9],\n",
    "         \"min_child_weight\" : [ 2,3,4 ],\n",
    "         \"gamma\"   : [ 0.0,0.1,0.2 ],\n",
    "         \"colsample_bytree\" : [ 0.3,0.4]}"
   ]
  },
  {
   "cell_type": "code",
   "execution_count": null,
   "metadata": {
    "colab": {
     "base_uri": "https://localhost:8080/",
     "height": 479
    },
    "id": "iH4NaaeL4sIn",
    "outputId": "affd458e-0691-42a8-cace-cb27db5eadc8"
   },
   "outputs": [
    {
     "name": "stdout",
     "output_type": "stream",
     "text": [
      "[11:13:54] WARNING: /workspace/src/objective/regression_obj.cu:152: reg:linear is now deprecated in favor of reg:squarederror.\n"
     ]
    },
    {
     "data": {
      "text/html": [
       "<div>\n",
       "<style scoped>\n",
       "    .dataframe tbody tr th:only-of-type {\n",
       "        vertical-align: middle;\n",
       "    }\n",
       "\n",
       "    .dataframe tbody tr th {\n",
       "        vertical-align: top;\n",
       "    }\n",
       "\n",
       "    .dataframe thead th {\n",
       "        text-align: right;\n",
       "    }\n",
       "</style>\n",
       "<table border=\"1\" class=\"dataframe\">\n",
       "  <thead>\n",
       "    <tr style=\"text-align: right;\">\n",
       "      <th></th>\n",
       "      <th>Model Name</th>\n",
       "      <th>Train Score</th>\n",
       "      <th>Validation Score</th>\n",
       "      <th>Score Difference</th>\n",
       "    </tr>\n",
       "  </thead>\n",
       "  <tbody>\n",
       "    <tr>\n",
       "      <th>0</th>\n",
       "      <td>XGBoost</td>\n",
       "      <td>0.980656</td>\n",
       "      <td>0.887675</td>\n",
       "      <td>0.092981</td>\n",
       "    </tr>\n",
       "  </tbody>\n",
       "</table>\n",
       "</div>"
      ],
      "text/plain": [
       "  Model Name  Train Score  Validation Score  Score Difference\n",
       "0    XGBoost     0.980656          0.887675          0.092981"
      ]
     },
     "metadata": {
      "tags": []
     },
     "output_type": "display_data"
    },
    {
     "name": "stdout",
     "output_type": "stream",
     "text": [
      "\n",
      "The best hyperparameters by gridsearchCv are :  {'colsample_bytree': 0.4, 'eta': 0.001, 'gamma': 0.0, 'max_depth': 7, 'min_child_weight': 2, 'n_estimators': 100} \n",
      "\n",
      "time taken by hayper perameter for searching best perameter : 805.4213712215424 s \n",
      "\n"
     ]
    },
    {
     "data": {
      "text/html": [
       "<div>\n",
       "<style scoped>\n",
       "    .dataframe tbody tr th:only-of-type {\n",
       "        vertical-align: middle;\n",
       "    }\n",
       "\n",
       "    .dataframe tbody tr th {\n",
       "        vertical-align: top;\n",
       "    }\n",
       "\n",
       "    .dataframe thead th {\n",
       "        text-align: right;\n",
       "    }\n",
       "</style>\n",
       "<table border=\"1\" class=\"dataframe\">\n",
       "  <thead>\n",
       "    <tr style=\"text-align: right;\">\n",
       "      <th></th>\n",
       "      <th>Actual</th>\n",
       "      <th>Prediction</th>\n",
       "    </tr>\n",
       "  </thead>\n",
       "  <tbody>\n",
       "    <tr>\n",
       "      <th>0</th>\n",
       "      <td>12.209188</td>\n",
       "      <td>12.313563</td>\n",
       "    </tr>\n",
       "    <tr>\n",
       "      <th>1</th>\n",
       "      <td>11.798104</td>\n",
       "      <td>11.980209</td>\n",
       "    </tr>\n",
       "    <tr>\n",
       "      <th>2</th>\n",
       "      <td>11.608236</td>\n",
       "      <td>11.606335</td>\n",
       "    </tr>\n",
       "    <tr>\n",
       "      <th>3</th>\n",
       "      <td>12.165251</td>\n",
       "      <td>12.287334</td>\n",
       "    </tr>\n",
       "    <tr>\n",
       "      <th>4</th>\n",
       "      <td>11.385092</td>\n",
       "      <td>11.448087</td>\n",
       "    </tr>\n",
       "  </tbody>\n",
       "</table>\n",
       "</div>"
      ],
      "text/plain": [
       "      Actual  Prediction\n",
       "0  12.209188   12.313563\n",
       "1  11.798104   11.980209\n",
       "2  11.608236   11.606335\n",
       "3  12.165251   12.287334\n",
       "4  11.385092   11.448087"
      ]
     },
     "metadata": {
      "tags": []
     },
     "output_type": "display_data"
    },
    {
     "data": {
      "text/html": [
       "<div>\n",
       "<style scoped>\n",
       "    .dataframe tbody tr th:only-of-type {\n",
       "        vertical-align: middle;\n",
       "    }\n",
       "\n",
       "    .dataframe tbody tr th {\n",
       "        vertical-align: top;\n",
       "    }\n",
       "\n",
       "    .dataframe thead th {\n",
       "        text-align: right;\n",
       "    }\n",
       "</style>\n",
       "<table border=\"1\" class=\"dataframe\">\n",
       "  <thead>\n",
       "    <tr style=\"text-align: right;\">\n",
       "      <th></th>\n",
       "      <th>MSE</th>\n",
       "      <th>RMSE</th>\n",
       "    </tr>\n",
       "  </thead>\n",
       "  <tbody>\n",
       "    <tr>\n",
       "      <th>train</th>\n",
       "      <td>0.003133</td>\n",
       "      <td>0.055972</td>\n",
       "    </tr>\n",
       "    <tr>\n",
       "      <th>validation</th>\n",
       "      <td>0.015457</td>\n",
       "      <td>0.124325</td>\n",
       "    </tr>\n",
       "  </tbody>\n",
       "</table>\n",
       "</div>"
      ],
      "text/plain": [
       "                 MSE      RMSE\n",
       "train       0.003133  0.055972\n",
       "validation  0.015457  0.124325"
      ]
     },
     "execution_count": 15,
     "metadata": {
      "tags": []
     },
     "output_type": "execute_result"
    }
   ],
   "source": [
    "xgboost_2 = Ensemble('XGBoost',x_train , y_train,x_val, y_val)\n",
    "xgboost_2.get_scores(params,5)"
   ]
  },
  {
   "cell_type": "markdown",
   "metadata": {
    "id": "d2hYElKX5orZ"
   },
   "source": [
    "## **Light GBM**"
   ]
  },
  {
   "cell_type": "code",
   "execution_count": null,
   "metadata": {
    "id": "LZ8soiFW5ora"
   },
   "outputs": [],
   "source": [
    "rs_params = {\n",
    "        'learning_rate':[0.0001, 0.001, 0.01],\n",
    "        'bagging_fraction': [0.5,0.55,0.6,0.7,0.8],\n",
    "        'bagging_frequency': [5,6,7,8],\n",
    "        'feature_fraction': [0.5,0.6, 0.66, 0.7],\n",
    "        'min_data_in_leaf': [90,110,120,130],\n",
    "        'num_leaves': [1200, 1550],\n",
    "        'max_depth': [10,12,14,15,17],\n",
    "\n",
    "\n",
    "}"
   ]
  },
  {
   "cell_type": "code",
   "execution_count": null,
   "metadata": {
    "id": "ecMROSWK5ora"
   },
   "outputs": [],
   "source": [
    "light_gbm_1 = Ensemble('LightGbm',x_train, y_train, x_val, y_val)"
   ]
  },
  {
   "cell_type": "code",
   "execution_count": null,
   "metadata": {
    "colab": {
     "background_save": true
    },
    "id": "ywpmhgP-5orb",
    "outputId": "032f8374-bbe3-464c-db4a-d9b5bb5969c0"
   },
   "outputs": [
    {
     "data": {
      "text/html": [
       "<div>\n",
       "<style scoped>\n",
       "    .dataframe tbody tr th:only-of-type {\n",
       "        vertical-align: middle;\n",
       "    }\n",
       "\n",
       "    .dataframe tbody tr th {\n",
       "        vertical-align: top;\n",
       "    }\n",
       "\n",
       "    .dataframe thead th {\n",
       "        text-align: right;\n",
       "    }\n",
       "</style>\n",
       "<table border=\"1\" class=\"dataframe\">\n",
       "  <thead>\n",
       "    <tr style=\"text-align: right;\">\n",
       "      <th></th>\n",
       "      <th>Model Name</th>\n",
       "      <th>Train Score</th>\n",
       "      <th>Validation Score</th>\n",
       "      <th>Score Difference</th>\n",
       "    </tr>\n",
       "  </thead>\n",
       "  <tbody>\n",
       "    <tr>\n",
       "      <th>0</th>\n",
       "      <td>LightGbm</td>\n",
       "      <td>0.693234</td>\n",
       "      <td>0.704906</td>\n",
       "      <td>-0.011673</td>\n",
       "    </tr>\n",
       "  </tbody>\n",
       "</table>\n",
       "</div>"
      ],
      "text/plain": [
       "  Model Name  Train Score  Validation Score  Score Difference\n",
       "0   LightGbm     0.693234          0.704906         -0.011673"
      ]
     },
     "metadata": {
      "tags": []
     },
     "output_type": "display_data"
    },
    {
     "name": "stdout",
     "output_type": "stream",
     "text": [
      "\n",
      "The best hyperparameters by gridsearchCv are :  {'bagging_fraction': 0.5, 'bagging_frequency': 5, 'feature_fraction': 0.7, 'learning_rate': 0.01, 'max_depth': 10, 'min_data_in_leaf': 90, 'num_leaves': 1200} \n",
      "\n",
      "time taken by hayper perameter for searching best perameter : 1907.081732749939 s \n",
      "\n"
     ]
    },
    {
     "data": {
      "text/html": [
       "<div>\n",
       "<style scoped>\n",
       "    .dataframe tbody tr th:only-of-type {\n",
       "        vertical-align: middle;\n",
       "    }\n",
       "\n",
       "    .dataframe tbody tr th {\n",
       "        vertical-align: top;\n",
       "    }\n",
       "\n",
       "    .dataframe thead th {\n",
       "        text-align: right;\n",
       "    }\n",
       "</style>\n",
       "<table border=\"1\" class=\"dataframe\">\n",
       "  <thead>\n",
       "    <tr style=\"text-align: right;\">\n",
       "      <th></th>\n",
       "      <th>Actual</th>\n",
       "      <th>Prediction</th>\n",
       "    </tr>\n",
       "  </thead>\n",
       "  <tbody>\n",
       "    <tr>\n",
       "      <th>0</th>\n",
       "      <td>12.209188</td>\n",
       "      <td>12.118587</td>\n",
       "    </tr>\n",
       "    <tr>\n",
       "      <th>1</th>\n",
       "      <td>11.798104</td>\n",
       "      <td>11.929585</td>\n",
       "    </tr>\n",
       "    <tr>\n",
       "      <th>2</th>\n",
       "      <td>11.608236</td>\n",
       "      <td>11.786996</td>\n",
       "    </tr>\n",
       "    <tr>\n",
       "      <th>3</th>\n",
       "      <td>12.165251</td>\n",
       "      <td>12.217284</td>\n",
       "    </tr>\n",
       "    <tr>\n",
       "      <th>4</th>\n",
       "      <td>11.385092</td>\n",
       "      <td>11.702131</td>\n",
       "    </tr>\n",
       "  </tbody>\n",
       "</table>\n",
       "</div>"
      ],
      "text/plain": [
       "      Actual  Prediction\n",
       "0  12.209188   12.118587\n",
       "1  11.798104   11.929585\n",
       "2  11.608236   11.786996\n",
       "3  12.165251   12.217284\n",
       "4  11.385092   11.702131"
      ]
     },
     "metadata": {
      "tags": []
     },
     "output_type": "display_data"
    },
    {
     "data": {
      "text/html": [
       "<div>\n",
       "<style scoped>\n",
       "    .dataframe tbody tr th:only-of-type {\n",
       "        vertical-align: middle;\n",
       "    }\n",
       "\n",
       "    .dataframe tbody tr th {\n",
       "        vertical-align: top;\n",
       "    }\n",
       "\n",
       "    .dataframe thead th {\n",
       "        text-align: right;\n",
       "    }\n",
       "</style>\n",
       "<table border=\"1\" class=\"dataframe\">\n",
       "  <thead>\n",
       "    <tr style=\"text-align: right;\">\n",
       "      <th></th>\n",
       "      <th>MSE</th>\n",
       "      <th>RMSE</th>\n",
       "    </tr>\n",
       "  </thead>\n",
       "  <tbody>\n",
       "    <tr>\n",
       "      <th>train</th>\n",
       "      <td>0.049682</td>\n",
       "      <td>0.222895</td>\n",
       "    </tr>\n",
       "    <tr>\n",
       "      <th>validation</th>\n",
       "      <td>0.040607</td>\n",
       "      <td>0.201512</td>\n",
       "    </tr>\n",
       "  </tbody>\n",
       "</table>\n",
       "</div>"
      ],
      "text/plain": [
       "                 MSE      RMSE\n",
       "train       0.049682  0.222895\n",
       "validation  0.040607  0.201512"
      ]
     },
     "execution_count": 0,
     "metadata": {
      "tags": []
     },
     "output_type": "execute_result"
    }
   ],
   "source": [
    "light_gbm_1.get_scores(rs_params,5)"
   ]
  },
  {
   "cell_type": "code",
   "execution_count": null,
   "metadata": {
    "id": "cPDOsIVrFVWJ"
   },
   "outputs": [],
   "source": [
    "rs_params = {\n",
    "        'learning_rate':[0.01,0.03,0.05,0.07],\n",
    "        'bagging_fraction': [0.3,0.45,0.55,0.6],\n",
    "        'bagging_frequency': [3,4,5],\n",
    "        'feature_fraction': [0.6,0.66,0.7,0.77],\n",
    "        'min_data_in_leaf': [50,60,70,80],\n",
    "        'max_depth': [7,8,9,10],\n",
    "\n",
    "\n",
    "}"
   ]
  },
  {
   "cell_type": "code",
   "execution_count": null,
   "metadata": {
    "colab": {
     "base_uri": "https://localhost:8080/",
     "height": 461
    },
    "id": "v6tZKS4JFX96",
    "outputId": "286ef301-7918-45da-b2c1-373c67838e97"
   },
   "outputs": [
    {
     "data": {
      "text/html": [
       "<div>\n",
       "<style scoped>\n",
       "    .dataframe tbody tr th:only-of-type {\n",
       "        vertical-align: middle;\n",
       "    }\n",
       "\n",
       "    .dataframe tbody tr th {\n",
       "        vertical-align: top;\n",
       "    }\n",
       "\n",
       "    .dataframe thead th {\n",
       "        text-align: right;\n",
       "    }\n",
       "</style>\n",
       "<table border=\"1\" class=\"dataframe\">\n",
       "  <thead>\n",
       "    <tr style=\"text-align: right;\">\n",
       "      <th></th>\n",
       "      <th>Model Name</th>\n",
       "      <th>Train Score</th>\n",
       "      <th>Validation Score</th>\n",
       "      <th>Score Difference</th>\n",
       "    </tr>\n",
       "  </thead>\n",
       "  <tbody>\n",
       "    <tr>\n",
       "      <th>0</th>\n",
       "      <td>LightGbm</td>\n",
       "      <td>0.934434</td>\n",
       "      <td>0.882394</td>\n",
       "      <td>0.05204</td>\n",
       "    </tr>\n",
       "  </tbody>\n",
       "</table>\n",
       "</div>"
      ],
      "text/plain": [
       "  Model Name  Train Score  Validation Score  Score Difference\n",
       "0   LightGbm     0.934434          0.882394           0.05204"
      ]
     },
     "metadata": {
      "tags": []
     },
     "output_type": "display_data"
    },
    {
     "name": "stdout",
     "output_type": "stream",
     "text": [
      "\n",
      "The best hyperparameters by gridsearchCv are :  {'bagging_fraction': 0.3, 'bagging_frequency': 3, 'feature_fraction': 0.66, 'learning_rate': 0.07, 'max_depth': 10, 'min_data_in_leaf': 50} \n",
      "\n",
      "time taken by hayper perameter for searching best perameter : 679.8883175849915 s \n",
      "\n"
     ]
    },
    {
     "data": {
      "text/html": [
       "<div>\n",
       "<style scoped>\n",
       "    .dataframe tbody tr th:only-of-type {\n",
       "        vertical-align: middle;\n",
       "    }\n",
       "\n",
       "    .dataframe tbody tr th {\n",
       "        vertical-align: top;\n",
       "    }\n",
       "\n",
       "    .dataframe thead th {\n",
       "        text-align: right;\n",
       "    }\n",
       "</style>\n",
       "<table border=\"1\" class=\"dataframe\">\n",
       "  <thead>\n",
       "    <tr style=\"text-align: right;\">\n",
       "      <th></th>\n",
       "      <th>Actual</th>\n",
       "      <th>Prediction</th>\n",
       "    </tr>\n",
       "  </thead>\n",
       "  <tbody>\n",
       "    <tr>\n",
       "      <th>0</th>\n",
       "      <td>12.209188</td>\n",
       "      <td>12.254009</td>\n",
       "    </tr>\n",
       "    <tr>\n",
       "      <th>1</th>\n",
       "      <td>11.798104</td>\n",
       "      <td>11.948292</td>\n",
       "    </tr>\n",
       "    <tr>\n",
       "      <th>2</th>\n",
       "      <td>11.608236</td>\n",
       "      <td>11.590265</td>\n",
       "    </tr>\n",
       "    <tr>\n",
       "      <th>3</th>\n",
       "      <td>12.165251</td>\n",
       "      <td>12.309612</td>\n",
       "    </tr>\n",
       "    <tr>\n",
       "      <th>4</th>\n",
       "      <td>11.385092</td>\n",
       "      <td>11.398331</td>\n",
       "    </tr>\n",
       "  </tbody>\n",
       "</table>\n",
       "</div>"
      ],
      "text/plain": [
       "      Actual  Prediction\n",
       "0  12.209188   12.254009\n",
       "1  11.798104   11.948292\n",
       "2  11.608236   11.590265\n",
       "3  12.165251   12.309612\n",
       "4  11.385092   11.398331"
      ]
     },
     "metadata": {
      "tags": []
     },
     "output_type": "display_data"
    },
    {
     "data": {
      "text/html": [
       "<div>\n",
       "<style scoped>\n",
       "    .dataframe tbody tr th:only-of-type {\n",
       "        vertical-align: middle;\n",
       "    }\n",
       "\n",
       "    .dataframe tbody tr th {\n",
       "        vertical-align: top;\n",
       "    }\n",
       "\n",
       "    .dataframe thead th {\n",
       "        text-align: right;\n",
       "    }\n",
       "</style>\n",
       "<table border=\"1\" class=\"dataframe\">\n",
       "  <thead>\n",
       "    <tr style=\"text-align: right;\">\n",
       "      <th></th>\n",
       "      <th>MSE</th>\n",
       "      <th>RMSE</th>\n",
       "    </tr>\n",
       "  </thead>\n",
       "  <tbody>\n",
       "    <tr>\n",
       "      <th>train</th>\n",
       "      <td>0.010619</td>\n",
       "      <td>0.103047</td>\n",
       "    </tr>\n",
       "    <tr>\n",
       "      <th>validation</th>\n",
       "      <td>0.016183</td>\n",
       "      <td>0.127214</td>\n",
       "    </tr>\n",
       "  </tbody>\n",
       "</table>\n",
       "</div>"
      ],
      "text/plain": [
       "                 MSE      RMSE\n",
       "train       0.010619  0.103047\n",
       "validation  0.016183  0.127214"
      ]
     },
     "execution_count": 8,
     "metadata": {
      "tags": []
     },
     "output_type": "execute_result"
    }
   ],
   "source": [
    "light_gbm_2 = Ensemble('LightGbm',x_train, y_train, x_val, y_val)\n",
    "light_gbm_2.get_scores(rs_params,5)"
   ]
  },
  {
   "cell_type": "code",
   "execution_count": null,
   "metadata": {
    "id": "9OXzciTSMqp2"
   },
   "outputs": [],
   "source": [
    "rs_params = {\n",
    "        'learning_rate':[0.06,0.07,0.075,0.8],\n",
    "        'bagging_fraction': [0.2,0.25,0.3],\n",
    "        'bagging_frequency': [2,3,4],\n",
    "        'feature_fraction': [0.6,0.62,0.65,0.68],\n",
    "        'min_data_in_leaf': [30,40,50],\n",
    "        'max_depth': [10]}"
   ]
  },
  {
   "cell_type": "code",
   "execution_count": null,
   "metadata": {
    "colab": {
     "background_save": true
    },
    "id": "_sjkfr18N5ea",
    "outputId": "5aa1a7c8-9360-4567-a051-f3ce92d2745e"
   },
   "outputs": [
    {
     "data": {
      "text/html": [
       "<div>\n",
       "<style scoped>\n",
       "    .dataframe tbody tr th:only-of-type {\n",
       "        vertical-align: middle;\n",
       "    }\n",
       "\n",
       "    .dataframe tbody tr th {\n",
       "        vertical-align: top;\n",
       "    }\n",
       "\n",
       "    .dataframe thead th {\n",
       "        text-align: right;\n",
       "    }\n",
       "</style>\n",
       "<table border=\"1\" class=\"dataframe\">\n",
       "  <thead>\n",
       "    <tr style=\"text-align: right;\">\n",
       "      <th></th>\n",
       "      <th>Model Name</th>\n",
       "      <th>Train Score</th>\n",
       "      <th>Validation Score</th>\n",
       "      <th>Score Difference</th>\n",
       "    </tr>\n",
       "  </thead>\n",
       "  <tbody>\n",
       "    <tr>\n",
       "      <th>0</th>\n",
       "      <td>LightGbm</td>\n",
       "      <td>0.946963</td>\n",
       "      <td>0.879213</td>\n",
       "      <td>0.067749</td>\n",
       "    </tr>\n",
       "  </tbody>\n",
       "</table>\n",
       "</div>"
      ],
      "text/plain": [
       "  Model Name  Train Score  Validation Score  Score Difference\n",
       "0   LightGbm     0.946963          0.879213          0.067749"
      ]
     },
     "metadata": {
      "tags": []
     },
     "output_type": "display_data"
    },
    {
     "name": "stdout",
     "output_type": "stream",
     "text": [
      "\n",
      "The best hyperparameters by gridsearchCv are :  {'bagging_fraction': 0.2, 'bagging_frequency': 2, 'feature_fraction': 0.6, 'learning_rate': 0.06, 'max_depth': 10, 'min_data_in_leaf': 30} \n",
      "\n",
      "time taken by hayper perameter for searching best perameter : 120.69190859794617 s \n",
      "\n"
     ]
    },
    {
     "data": {
      "text/html": [
       "<div>\n",
       "<style scoped>\n",
       "    .dataframe tbody tr th:only-of-type {\n",
       "        vertical-align: middle;\n",
       "    }\n",
       "\n",
       "    .dataframe tbody tr th {\n",
       "        vertical-align: top;\n",
       "    }\n",
       "\n",
       "    .dataframe thead th {\n",
       "        text-align: right;\n",
       "    }\n",
       "</style>\n",
       "<table border=\"1\" class=\"dataframe\">\n",
       "  <thead>\n",
       "    <tr style=\"text-align: right;\">\n",
       "      <th></th>\n",
       "      <th>Actual</th>\n",
       "      <th>Prediction</th>\n",
       "    </tr>\n",
       "  </thead>\n",
       "  <tbody>\n",
       "    <tr>\n",
       "      <th>0</th>\n",
       "      <td>12.209188</td>\n",
       "      <td>12.317378</td>\n",
       "    </tr>\n",
       "    <tr>\n",
       "      <th>1</th>\n",
       "      <td>11.798104</td>\n",
       "      <td>11.919355</td>\n",
       "    </tr>\n",
       "    <tr>\n",
       "      <th>2</th>\n",
       "      <td>11.608236</td>\n",
       "      <td>11.524381</td>\n",
       "    </tr>\n",
       "    <tr>\n",
       "      <th>3</th>\n",
       "      <td>12.165251</td>\n",
       "      <td>12.312403</td>\n",
       "    </tr>\n",
       "    <tr>\n",
       "      <th>4</th>\n",
       "      <td>11.385092</td>\n",
       "      <td>11.429214</td>\n",
       "    </tr>\n",
       "  </tbody>\n",
       "</table>\n",
       "</div>"
      ],
      "text/plain": [
       "      Actual  Prediction\n",
       "0  12.209188   12.317378\n",
       "1  11.798104   11.919355\n",
       "2  11.608236   11.524381\n",
       "3  12.165251   12.312403\n",
       "4  11.385092   11.429214"
      ]
     },
     "metadata": {
      "tags": []
     },
     "output_type": "display_data"
    },
    {
     "data": {
      "text/html": [
       "<div>\n",
       "<style scoped>\n",
       "    .dataframe tbody tr th:only-of-type {\n",
       "        vertical-align: middle;\n",
       "    }\n",
       "\n",
       "    .dataframe tbody tr th {\n",
       "        vertical-align: top;\n",
       "    }\n",
       "\n",
       "    .dataframe thead th {\n",
       "        text-align: right;\n",
       "    }\n",
       "</style>\n",
       "<table border=\"1\" class=\"dataframe\">\n",
       "  <thead>\n",
       "    <tr style=\"text-align: right;\">\n",
       "      <th></th>\n",
       "      <th>MSE</th>\n",
       "      <th>RMSE</th>\n",
       "    </tr>\n",
       "  </thead>\n",
       "  <tbody>\n",
       "    <tr>\n",
       "      <th>train</th>\n",
       "      <td>0.008590</td>\n",
       "      <td>0.092680</td>\n",
       "    </tr>\n",
       "    <tr>\n",
       "      <th>validation</th>\n",
       "      <td>0.016621</td>\n",
       "      <td>0.128923</td>\n",
       "    </tr>\n",
       "  </tbody>\n",
       "</table>\n",
       "</div>"
      ],
      "text/plain": [
       "                 MSE      RMSE\n",
       "train       0.008590  0.092680\n",
       "validation  0.016621  0.128923"
      ]
     },
     "execution_count": 0,
     "metadata": {
      "tags": []
     },
     "output_type": "execute_result"
    }
   ],
   "source": [
    "light_gbm_3 = Ensemble('LightGbm',x_train, y_train, x_val, y_val)\n",
    "light_gbm_3.get_scores(rs_params,5)"
   ]
  },
  {
   "cell_type": "code",
   "execution_count": null,
   "metadata": {
    "id": "oiC4ih035orc"
   },
   "outputs": [],
   "source": [
    " from sklearn.base import BaseEstimator, TransformerMixin, RegressorMixin, clone\n",
    " class StackingAveragedModels(BaseEstimator, RegressorMixin, TransformerMixin):\n",
    "    def __init__(self, base_models, meta_model, n_folds=5):\n",
    "        self.base_models = base_models\n",
    "        self.meta_model = meta_model\n",
    "        self.n_folds = n_folds\n",
    "   \n",
    "    # We again fit the data on clones of the original models\n",
    "    def fit(self, X, y):\n",
    "        self.base_models_ = [list() for x in self.base_models]\n",
    "        self.meta_model_ = clone(self.meta_model)\n",
    "        kfold = KFold(n_splits=self.n_folds, shuffle=True, random_state=156)\n",
    "        # Train cloned base models then create out-of-fold predictions\n",
    "        # that are needed to train the cloned meta-model\n",
    "        out_of_fold_predictions = np.zeros((X.shape[0], len(self.base_models)))\n",
    "        for i, model in enumerate(self.base_models):\n",
    "           \n",
    "            for train_index, holdout_index in kfold.split(X, y):\n",
    "                instance = clone(model)\n",
    "                self.base_models_[i].append(instance)\n",
    "                instance.fit(X[train_index], y[train_index])\n",
    "                y_pred = instance.predict(X[holdout_index])\n",
    "                out_of_fold_predictions[holdout_index, i] = y_pred\n",
    "                \n",
    "        # Now train the cloned  meta-model using the out-of-fold predictions as new feature\n",
    "        self.meta_model_.fit(out_of_fold_predictions, y)\n",
    "        return self\n",
    "   \n",
    "    #Do the predictions of all base models on the test data and use the averaged predictions as \n",
    "    #meta-features for the final prediction which is done by the meta-model\n",
    "    def predict(self, X):\n",
    "        meta_features = np.column_stack([\n",
    "            np.column_stack([model.predict(X) for model in base_models]).mean(axis=1)\n",
    "            for base_models in self.base_models_ ])\n",
    "        return self.meta_model_.predict(meta_features)"
   ]
  },
  {
   "cell_type": "code",
   "execution_count": null,
   "metadata": {
    "id": "NqUYHA4WVGn6"
   },
   "outputs": [],
   "source": [
    "lgbm2 = LGBMRegressor(bagging_fraction=0.3, bagging_frequency=3, boosting_type='gbdt',\n",
    "              class_weight=None, colsample_bytree=1.0, feature_fraction=0.66,\n",
    "              importance_type='split', learning_rate=0.07, max_depth=10,\n",
    "              min_child_samples=20, min_child_weight=0.001, min_data_in_leaf=50,\n",
    "              min_split_gain=0.0, n_estimators=100, n_jobs=-1, num_leaves=31,\n",
    "              objective=None, random_state=None, reg_alpha=0.0, reg_lambda=0.0,\n",
    "              silent=True, subsample=1.0, subsample_for_bin=200000,\n",
    "              subsample_freq=0)\n",
    "xgboost2 = XGBRegressor(base_score=0.5, booster='gbtree', colsample_bylevel=1,\n",
    "             colsample_bynode=1, colsample_bytree=0.4, eta=0.001, gamma=0.0,\n",
    "             importance_type='gain', learning_rate=0.1, max_delta_step=0,\n",
    "             max_depth=7, min_child_weight=2, missing=None, n_estimators=100,\n",
    "             n_jobs=-1, nthread=None, objective='reg:linear', random_state=0,\n",
    "             reg_alpha=0, reg_lambda=1, scale_pos_weight=1, seed=None,\n",
    "             silent=None, subsample=1, verbosity=1)"
   ]
  },
  {
   "cell_type": "code",
   "execution_count": null,
   "metadata": {
    "id": "sPlAm0wIVmKA"
   },
   "outputs": [],
   "source": [
    "model = LinearRegression()"
   ]
  },
  {
   "cell_type": "code",
   "execution_count": null,
   "metadata": {
    "colab": {
     "base_uri": "https://localhost:8080/"
    },
    "id": "sbLEKZGAaNqb",
    "outputId": "d601fde6-c6d6-425a-83b4-357afc340162"
   },
   "outputs": [
    {
     "name": "stdout",
     "output_type": "stream",
     "text": [
      "djdjd\n",
      "djdjd\n",
      "[11:54:04] WARNING: /workspace/src/objective/regression_obj.cu:152: reg:linear is now deprecated in favor of reg:squarederror.\n",
      "[11:54:04] WARNING: /workspace/src/objective/regression_obj.cu:152: reg:linear is now deprecated in favor of reg:squarederror.\n",
      "[11:54:04] WARNING: /workspace/src/objective/regression_obj.cu:152: reg:linear is now deprecated in favor of reg:squarederror.\n",
      "[11:54:04] WARNING: /workspace/src/objective/regression_obj.cu:152: reg:linear is now deprecated in favor of reg:squarederror.\n",
      "[11:54:04] WARNING: /workspace/src/objective/regression_obj.cu:152: reg:linear is now deprecated in favor of reg:squarederror.\n",
      "validation rmse :: 0.12464816870299592\n"
     ]
    }
   ],
   "source": [
    "import warnings\n",
    "warnings.filterwarnings(\"ignore\")\n",
    "def rmsle(y, y_pred):\n",
    "    return np.sqrt(mean_squared_error(y, y_pred))\n",
    "stacked_averaged_models.fit(x_train.values, y_train.values)\n",
    "stacked_train_pred = stacked_averaged_models.predict(x_train.values)\n",
    "stacked_pred = stacked_averaged_models.predict(x_val.values)\n",
    "print(\"validation rmse ::\",rmsle(y_val.values, stacked_pred))    "
   ]
  },
  {
   "cell_type": "markdown",
   "metadata": {
    "id": "KP-HFIf6hnNC"
   },
   "source": [
    "## **All Models Compared**"
   ]
  },
  {
   "cell_type": "code",
   "execution_count": null,
   "metadata": {
    "id": "KjjQKt6zf-ow"
   },
   "outputs": [],
   "source": [
    "all_models = pd.concat([model1.scores_table,\n",
    "                        tree_2.scores_table,\n",
    "                        ran_for_2.scores_table,\n",
    "                        svm_2.scores_table,\n",
    "                        xgboost_2.scores_table,\n",
    "                        light_gbm_2.scores_table],\n",
    "                        axis=0)"
   ]
  },
  {
   "cell_type": "code",
   "execution_count": null,
   "metadata": {
    "colab": {
     "base_uri": "https://localhost:8080/",
     "height": 228
    },
    "id": "zzcNXkEGhuPR",
    "outputId": "ac174cae-77df-4151-afae-73b46495c20d"
   },
   "outputs": [
    {
     "data": {
      "text/html": [
       "<div>\n",
       "<style scoped>\n",
       "    .dataframe tbody tr th:only-of-type {\n",
       "        vertical-align: middle;\n",
       "    }\n",
       "\n",
       "    .dataframe tbody tr th {\n",
       "        vertical-align: top;\n",
       "    }\n",
       "\n",
       "    .dataframe thead th {\n",
       "        text-align: right;\n",
       "    }\n",
       "</style>\n",
       "<table border=\"1\" class=\"dataframe\">\n",
       "  <thead>\n",
       "    <tr style=\"text-align: right;\">\n",
       "      <th></th>\n",
       "      <th>Model Name</th>\n",
       "      <th>Train Score</th>\n",
       "      <th>Validation Score</th>\n",
       "      <th>Score Difference</th>\n",
       "    </tr>\n",
       "  </thead>\n",
       "  <tbody>\n",
       "    <tr>\n",
       "      <th>0</th>\n",
       "      <td>Linear Regression</td>\n",
       "      <td>0.898866</td>\n",
       "      <td>0.880952</td>\n",
       "      <td>0.017914</td>\n",
       "    </tr>\n",
       "    <tr>\n",
       "      <th>0</th>\n",
       "      <td>Decision Tree Regression</td>\n",
       "      <td>0.902531</td>\n",
       "      <td>0.816456</td>\n",
       "      <td>0.086074</td>\n",
       "    </tr>\n",
       "    <tr>\n",
       "      <th>0</th>\n",
       "      <td>Random Forest Regression</td>\n",
       "      <td>0.912372</td>\n",
       "      <td>0.881365</td>\n",
       "      <td>0.031007</td>\n",
       "    </tr>\n",
       "    <tr>\n",
       "      <th>0</th>\n",
       "      <td>SVM Regression</td>\n",
       "      <td>0.914026</td>\n",
       "      <td>0.891452</td>\n",
       "      <td>0.022574</td>\n",
       "    </tr>\n",
       "    <tr>\n",
       "      <th>0</th>\n",
       "      <td>XGBoost</td>\n",
       "      <td>0.980656</td>\n",
       "      <td>0.887675</td>\n",
       "      <td>0.092981</td>\n",
       "    </tr>\n",
       "    <tr>\n",
       "      <th>0</th>\n",
       "      <td>LightGbm</td>\n",
       "      <td>0.934434</td>\n",
       "      <td>0.882394</td>\n",
       "      <td>0.052040</td>\n",
       "    </tr>\n",
       "  </tbody>\n",
       "</table>\n",
       "</div>"
      ],
      "text/plain": [
       "                 Model Name  Train Score  Validation Score  Score Difference\n",
       "0         Linear Regression     0.898866          0.880952          0.017914\n",
       "0  Decision Tree Regression     0.902531          0.816456          0.086074\n",
       "0  Random Forest Regression     0.912372          0.881365          0.031007\n",
       "0            SVM Regression     0.914026          0.891452          0.022574\n",
       "0                   XGBoost     0.980656          0.887675          0.092981\n",
       "0                  LightGbm     0.934434          0.882394          0.052040"
      ]
     },
     "execution_count": 122,
     "metadata": {
      "tags": []
     },
     "output_type": "execute_result"
    }
   ],
   "source": [
    "all_models"
   ]
  },
  {
   "cell_type": "code",
   "execution_count": null,
   "metadata": {
    "id": "2lKAmZKRm5tz"
   },
   "outputs": [],
   "source": []
  }
 ],
 "metadata": {
  "colab": {
   "collapsed_sections": [],
   "name": "Modeling and hyperperameter Tununing.ipynb",
   "provenance": []
  },
  "kernelspec": {
   "display_name": "Python 3",
   "language": "python",
   "name": "python3"
  },
  "language_info": {
   "codemirror_mode": {
    "name": "ipython",
    "version": 3
   },
   "file_extension": ".py",
   "mimetype": "text/x-python",
   "name": "python",
   "nbconvert_exporter": "python",
   "pygments_lexer": "ipython3",
   "version": "3.8.5"
  }
 },
 "nbformat": 4,
 "nbformat_minor": 1
}
